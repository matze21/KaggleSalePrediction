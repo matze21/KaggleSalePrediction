{
 "cells": [
  {
   "cell_type": "code",
   "execution_count": null,
   "id": "59026744",
   "metadata": {},
   "outputs": [],
   "source": [
    "import pandas as pd\n",
    "from sklearn.ensemble import RandomForestRegressor"
   ]
  },
  {
   "cell_type": "code",
   "execution_count": null,
   "id": "630ad03d",
   "metadata": {},
   "outputs": [],
   "source": [
    "timeDF = pd.read_csv('timeDF.csv')"
   ]
  },
  {
   "cell_type": "code",
   "execution_count": null,
   "id": "ed103450",
   "metadata": {},
   "outputs": [],
   "source": [
    "train = timeDF.loc[timeDF.dataType == \"train\"]\n",
    "test = timeDF.loc[timeDF.dataType == \"test\"]\n",
    "val = timeDF.loc[timeDF.dataType == \"val\"]"
   ]
  },
  {
   "cell_type": "code",
   "execution_count": null,
   "id": "ea79ab37",
   "metadata": {},
   "outputs": [],
   "source": [
    "Y_train = train.transactions\n",
    "X_train = train.drop(['date', 'dataType', 'transactions', \"Unnamed: 0\"], axis = 1)\n",
    "\n",
    "Y_test = test.transactions\n",
    "X_test = test.drop(['date', 'dataType', 'transactions', \"Unnamed: 0\"], axis = 1)\n",
    "\n",
    "X_val = val.drop(['date', 'dataType', 'transactions', \"Unnamed: 0\"], axis = 1)"
   ]
  },
  {
   "cell_type": "code",
   "execution_count": null,
   "id": "aeb6516f",
   "metadata": {},
   "outputs": [],
   "source": [
    "#random forest\n",
    "\n",
    "regr = RandomForestRegressor(max_depth=5, random_state=0)\n",
    "regr.fit(X_train, Y_train)"
   ]
  },
  {
   "cell_type": "code",
   "execution_count": null,
   "id": "bf3e665a",
   "metadata": {},
   "outputs": [],
   "source": [
    "print(regr.score(X_train, Y_train))\n",
    "print(regr.score(X_test,Y_test))"
   ]
  },
  {
   "cell_type": "code",
   "execution_count": null,
   "id": "59885493",
   "metadata": {},
   "outputs": [],
   "source": [
    "pred = regr.predict(X_test)\n",
    "results = pd.DataFrame(data = pred, columns=['prediction'])\n",
    "results[\"groundTruth\"] = Y_test.to_numpy()"
   ]
  },
  {
   "cell_type": "code",
   "execution_count": null,
   "id": "94e7c76d",
   "metadata": {},
   "outputs": [],
   "source": [
    "results.prediction.plot()"
   ]
  },
  {
   "cell_type": "code",
   "execution_count": null,
   "id": "59c1c5fa",
   "metadata": {},
   "outputs": [],
   "source": [
    "results.groundTruth.plot()"
   ]
  }
 ],
 "metadata": {
  "kernelspec": {
   "display_name": "Python 3",
   "language": "python",
   "name": "python3"
  },
  "language_info": {
   "codemirror_mode": {
    "name": "ipython",
    "version": 3
   },
   "file_extension": ".py",
   "mimetype": "text/x-python",
   "name": "python",
   "nbconvert_exporter": "python",
   "pygments_lexer": "ipython3",
   "version": "3.8.8"
  },
  "latex_envs": {
   "LaTeX_envs_menu_present": true,
   "autoclose": false,
   "autocomplete": true,
   "bibliofile": "biblio.bib",
   "cite_by": "apalike",
   "current_citInitial": 1,
   "eqLabelWithNumbers": true,
   "eqNumInitial": 1,
   "hotkeys": {
    "equation": "Ctrl-E",
    "itemize": "Ctrl-I"
   },
   "labels_anchors": false,
   "latex_user_defs": false,
   "report_style_numbering": false,
   "user_envs_cfg": false
  }
 },
 "nbformat": 4,
 "nbformat_minor": 5
}
