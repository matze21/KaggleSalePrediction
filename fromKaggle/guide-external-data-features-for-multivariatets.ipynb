{
 "cells": [
  {
   "cell_type": "markdown",
   "id": "19d8bfdf",
   "metadata": {
    "papermill": {
     "duration": 0.018902,
     "end_time": "2022-06-07T08:06:45.864600",
     "exception": false,
     "start_time": "2022-06-07T08:06:45.845698",
     "status": "completed"
    },
    "tags": []
   },
   "source": [
    "# 🔎 How to find relevant external features & data for kaggle competitions in 10 minutes [3/3]\n",
    "### Part #3 -  Improve accuracy of Multivariate Time Series kernel from external features & data\n",
    "##### [Part #1 Link](https://www.kaggle.com/code/romaupgini/how-to-find-external-data-for-1-private-lb-4-50)\n",
    "##### [Part #2 Link](https://www.kaggle.com/code/romaupgini/zero-feature-engineering-with-upgini-pycaret)\n",
    "______________________________\n",
    "*updated 2022-06-06 [@roma-upgini](https://www.kaggle.com/romaupgini)*\n",
    "\n",
    "**❓Before reading the notebook, what will you learn from it?**\n",
    "\n",
    "1. How external data & features might help on Kaggle: two scenarios\n",
    "2. How to find relevant external features in less than 10 minutes and save time on feature engineering \n",
    "3. How to calculate metrics and uplifts from new external features\n",
    "4. What external data sources might help you on Kaggle competitions\n",
    "\n",
    "Extra **tips & tricks**:  \n",
    "\n",
    "5. How and when to do **zero forecasting**\n",
    "6. How to do **target log(y)+1 transform** for better model fit, as part of a scikit-learn model \n",
    "7. How to do **rounding to the nearest integer** for better prediction accuracy, as part of a scikit-learn model\n",
    "8. How quickly analyse dependences between components of Multivariate Time Series\n",
    "9. How to check TS on stationarity \n",
    "10. How generate hypotesis on model type for specific time series component in Multivariate TS\n",
    "\n",
    "🗣 Share this notebook: [Shareable Link](https://www.kaggle.com/code/romaupgini/external-data-features-for-multivariate-ts)\n",
    "______________________________\n",
    "### Table of contents\n",
    "* [Intro](#Intro)\n",
    "\n",
    "* [How external data & features might help on Kaggle?](#How-external-data-&-features-might-help-on-Kaggle?)\n",
    "\n",
    "* [1️⃣ Make/fork a baseline notebook for feature enrichment](#1️⃣-Make/fork-a-baseline-notebook-for-feature-enrichment)\n",
    "\n",
    "* [2️⃣ Quick analysis of Multivariate Time Series data](#2️⃣-Quick-analysis-of-Multivariate-Time-Series-data)\n",
    "\n",
    "* [3️⃣ Find relevant external features for several TS components in Multivariate Time Series](#3️⃣-Find-relevant-external-features-for-several-TS-components-in-Multivariate-Time-Series)\n",
    "\n",
    "* [4️⃣ Train final model](#4️⃣-Train-final-model)\n",
    "\n",
    "* [5️⃣ Submit prediction with enriched features and calculate final leaderbord progress](#5️⃣-Submit-prediction-with-enriched-features-and-calculate-final-leaderbord-progress)\n",
    "    \n",
    "* [Relevant external features & data sources](#🌎-Relevant-external-features-&-data-sources)   \n",
    "\n",
    "## Intro\n",
    "**Competition**: [Store Sales - Time Series Forecasting](https://www.kaggle.com/competitions/store-sales-time-series-forecasting), [RMSLE as a target metric](https://www.kaggle.com/code/carlmcbrideellis/store-sales-using-the-average-of-the-last-16-days#Note-regarding-calculating-the-average)  \n",
    "**Special thanks**:\n",
    "* EDA with a lot of small but important details: [Store Sales TS Forecasting - A Comprehensive Guide](https://www.kaggle.com/ekrembayar/store-sales-ts-forecasting-a-comprehensive-guide) by [Ekrem Bayar](https://www.kaggle.com/ekrembayar)  \n",
    "* Inital regressor architecture: [Simple TS + Ridge + RF](https://www.kaggle.com/dkomyagin/simple-ts-ridge-rf) by [KDJ2020](https://www.kaggle.com/dkomyagin)  \n",
    "* Further tuning of regressor with voting ensemble: [Notebook](https://www.kaggle.com/hiro5299834/store-sales-ridge-voting-bagging-et-bagging-rf) by [BIZEN's](https://www.kaggle.com/hiro5299834)  \n",
    "* Greate note on [asymmetrical nature of RMSLE](https://www.kaggle.com/code/carlmcbrideellis/store-sales-using-the-average-of-the-last-16-days#Note-regarding-calculating-the-average) by [Carl McBride Ellis](https://www.kaggle.com/carlmcbrideellis)\n",
    "\n",
    "📚 In this notebook we'll use:\n",
    "* [Upgini](https://github.com/upgini/upgini#readme) - Low-code Feature search and enrichment library for supervised machine learning applications.   \n",
    "<a href=\"https://github.com/upgini/upgini\">\n",
    "    <img src=\"https://img.shields.io/badge/GitHub-100000?style=for-the-badge&logo=github&logoColor=white\"  align='center'>\n",
    "</a>  "
   ]
  },
  {
   "cell_type": "markdown",
   "id": "ceb39947",
   "metadata": {
    "papermill": {
     "duration": 0.017035,
     "end_time": "2022-06-07T08:06:45.899922",
     "exception": false,
     "start_time": "2022-06-07T08:06:45.882887",
     "status": "completed"
    },
    "tags": []
   },
   "source": [
    "## How external data & features might help on Kaggle?\n",
    "Kaggle is always about learning and leader board progress (hopefully from learning, not cheating ;-))  \n",
    "And every Kaggler wants to progress as fast as possible, so time saving tips & tricks is a big deal as well.  \n",
    "That's why low-code tools is adopted among kagglers.\n",
    "\n",
    "So, there are **two major scenarios** of external features & data introduction in competitions on Kaggle:\n",
    "\n",
    "1. **Final improvement of a polished kernel**  \n",
    "In this scenario you want **to improve already polished kernel** (optimized features, model architecture and hyperparams) with new external features.  \n",
    "Before that, most of the juice already has been \"squeezed\" from competition data by significant efforts in feature engineering.  \n",
    "And you want to answer the simple question - *Is there any external data sources and features which might boost accuracy a bit more?*  \n",
    "However, there is a caveat to this approach: current model architecture & hyperparameters might be suboptimal for the new feature set, after introduction even single new var.  \n",
    "So, extra step back for model tuning might be needed.\n",
    "\n",
    "2. **Low-code initial feature engineering - add relevant external features @start**  \n",
    "Here you want to **save time on feature search and engineering**. If there are some ready-to-use external features and data, let's use it to speed up the overall progress.  \n",
    "In this scenario always make sense to check that new external features have optimal representation for specific task and target model architecture. Example - category features for linear regression models should be one-hot-encoded.\n",
    "This type of feature preparation should be done manually in any case.  \n",
    "Same as scenario #1, there is a caveat to this approach: a lot of features not always a good thing - they might lead to dimensionality increase and model overfitting.  \n",
    "You have to check model accuracy improvement metrics after enrichment with the new features and ALWAYS with appropriate cross-validation strategy.\n",
    " \n",
    "In this Guide we'll go with **Scenario #1**. Also you can check out Part #2 Guide for the [**Scenario #2**](https://www.kaggle.com/code/romaupgini/zero-feature-engineering-with-upgini-pycaret), and another example for Scenario #1 - [Part 1](https://www.kaggle.com/code/romaupgini/how-to-find-external-data-for-1-private-lb-4-50)"
   ]
  },
  {
   "cell_type": "markdown",
   "id": "e1d3480b",
   "metadata": {
    "papermill": {
     "duration": 0.017104,
     "end_time": "2022-06-07T08:06:45.935052",
     "exception": false,
     "start_time": "2022-06-07T08:06:45.917948",
     "status": "completed"
    },
    "tags": []
   },
   "source": [
    "## 1️⃣ Make/fork a baseline notebook for feature enrichment\n",
    "\n",
    "In this tutorial we forked [Hyperparamaters](https://www.kaggle.com/code/rizkykiky/hyperparamaters) public notebook by [Rizky Anugrah Ananto](https://www.kaggle.com/rizkykiky) (thank you!), which has a public LB score **0.40419**  \n",
    "And made some changes:\n",
    "\n",
    "* Added time dependent features based on salary schedule in the Ecuador public sector;\n",
    "* Added Zero forecasting for zero-sales product families in specific stores;\n",
    "* Updated blending approach to \"Same store sales predicitions as new features\" and made a quick explanation why this works;\n",
    "* Added Power transformation (Yeo-Johnson) for X and Log(y)+1 transformation for y in regressors;\n",
    "* Added different regressor types (Trees, KNN, Bayesian) for different product groups timeseries.\n",
    "\n",
    "[⬇️ Step 2](#2️⃣-Quick-analysis-of-Multivariate-Time-Series-data)"
   ]
  },
  {
   "cell_type": "markdown",
   "id": "c9ade2d5",
   "metadata": {
    "papermill": {
     "duration": 0.016993,
     "end_time": "2022-06-07T08:06:45.969669",
     "exception": false,
     "start_time": "2022-06-07T08:06:45.952676",
     "status": "completed"
    },
    "tags": []
   },
   "source": [
    "___________________________________________________________\n",
    "### Packages and functions"
   ]
  },
  {
   "cell_type": "code",
   "execution_count": null,
   "id": "015fc5d8",
   "metadata": {
    "_cell_guid": "b1076dfc-b9ad-4769-8c92-a6c4dae69d19",
    "_kg_hide-input": true,
    "_uuid": "8f2839f25d086af736a60e9eeb907d3b93b6e0e5",
    "papermill": {
     "duration": 20.065148,
     "end_time": "2022-06-07T08:07:06.052734",
     "exception": false,
     "start_time": "2022-06-07T08:06:45.987586",
     "status": "completed"
    },
    "tags": []
   },
   "outputs": [],
   "source": [
    "%pip install -Uq upgini\n",
    "import numpy as np\n",
    "import pandas as pd\n",
    "\n",
    "import statsmodels.api as sm\n",
    "from statsmodels.tsa.deterministic import DeterministicProcess, CalendarFourier\n",
    "from statsmodels.graphics.tsaplots import plot_pacf\n",
    "from statsmodels.tsa.stattools import adfuller\n",
    "# visualization tools\n",
    "from matplotlib import pyplot as plt, style\n",
    "style.use('seaborn-darkgrid')\n",
    "import seaborn as sns\n",
    "sns.set_style('darkgrid')\n",
    "import plotly.express as px\n",
    "from tqdm import tqdm\n",
    "\n",
    "import gc\n",
    "gc.enable()\n",
    "from warnings import filterwarnings, simplefilter\n",
    "filterwarnings('ignore')\n",
    "simplefilter('ignore')"
   ]
  },
  {
   "cell_type": "markdown",
   "id": "8be2ec17",
   "metadata": {
    "papermill": {
     "duration": 0.017666,
     "end_time": "2022-06-07T08:07:06.088649",
     "exception": false,
     "start_time": "2022-06-07T08:07:06.070983",
     "status": "completed"
    },
    "tags": []
   },
   "source": [
    "### Reading train and test datasets"
   ]
  },
  {
   "cell_type": "code",
   "execution_count": null,
   "id": "71fc30c5",
   "metadata": {
    "_kg_hide-input": true,
    "papermill": {
     "duration": 4.760667,
     "end_time": "2022-06-07T08:07:10.867020",
     "exception": false,
     "start_time": "2022-06-07T08:07:06.106353",
     "status": "completed"
    },
    "tags": []
   },
   "outputs": [],
   "source": [
    "train = pd.read_csv('../input/store-sales-time-series-forecasting/train.csv',\n",
    "                    parse_dates = ['date'], infer_datetime_format = True,\n",
    "                    dtype = {'store_nbr' : 'category',\n",
    "                             'family' : 'category'},\n",
    "                    usecols = ['date', 'store_nbr', 'family', 'sales'])\n",
    "train['date'] = train.date.dt.to_period('D')\n",
    "train = train.set_index(['date', 'store_nbr', 'family']).sort_index()\n",
    "print(train.shape)\n",
    "train.head()"
   ]
  },
  {
   "cell_type": "code",
   "execution_count": null,
   "id": "d7e74d3a",
   "metadata": {
    "_kg_hide-input": true,
    "papermill": {
     "duration": 0.084313,
     "end_time": "2022-06-07T08:07:10.969710",
     "exception": false,
     "start_time": "2022-06-07T08:07:10.885397",
     "status": "completed"
    },
    "tags": []
   },
   "outputs": [],
   "source": [
    "test = pd.read_csv('../input/store-sales-time-series-forecasting/test.csv',\n",
    "                   parse_dates = ['date'], infer_datetime_format = True)\n",
    "test['date'] = test.date.dt.to_period('D')\n",
    "test = test.set_index(['date', 'store_nbr', 'family']).sort_values('id')\n",
    "print(test.shape)\n",
    "test.head()"
   ]
  },
  {
   "cell_type": "markdown",
   "id": "0ebcb0c3",
   "metadata": {
    "papermill": {
     "duration": 0.017922,
     "end_time": "2022-06-07T08:07:11.006409",
     "exception": false,
     "start_time": "2022-06-07T08:07:10.988487",
     "status": "completed"
    },
    "tags": []
   },
   "source": [
    "### Oil price lag features"
   ]
  },
  {
   "cell_type": "code",
   "execution_count": null,
   "id": "820e6ae8",
   "metadata": {
    "_kg_hide-input": true,
    "papermill": {
     "duration": 0.054862,
     "end_time": "2022-06-07T08:07:11.079722",
     "exception": false,
     "start_time": "2022-06-07T08:07:11.024860",
     "status": "completed"
    },
    "tags": []
   },
   "outputs": [],
   "source": [
    "calendar = pd.DataFrame(index = pd.date_range('2013-01-01', '2017-08-31')).to_period('D')\n",
    "oil = pd.read_csv('../input/store-sales-time-series-forecasting/oil.csv',\n",
    "                  parse_dates = ['date'], infer_datetime_format = True,\n",
    "                  index_col = 'date').to_period('D')\n",
    "oil['avg_oil'] = oil['dcoilwtico'].rolling(7).mean()\n",
    "calendar = calendar.join(oil.avg_oil)\n",
    "calendar['avg_oil'].fillna(method = 'ffill', inplace = True)\n",
    "calendar.dropna(inplace = True)"
   ]
  },
  {
   "cell_type": "markdown",
   "id": "477162c6",
   "metadata": {
    "papermill": {
     "duration": 0.017884,
     "end_time": "2022-06-07T08:07:11.115932",
     "exception": false,
     "start_time": "2022-06-07T08:07:11.098048",
     "status": "completed"
    },
    "tags": []
   },
   "source": [
    "We concatenated calendar with oil price and replaced NaN with **last valid** observation price.   \n",
    "Now, let's calculate *partial autocorrelation* to select proper lags for oil price features.  \n",
    "The lag feature - shifting a time series forward one step or more."
   ]
  },
  {
   "cell_type": "code",
   "execution_count": null,
   "id": "f95eeb41",
   "metadata": {
    "_kg_hide-input": true,
    "papermill": {
     "duration": 0.43548,
     "end_time": "2022-06-07T08:07:11.570184",
     "exception": false,
     "start_time": "2022-06-07T08:07:11.134704",
     "status": "completed"
    },
    "tags": []
   },
   "outputs": [],
   "source": [
    "_ = plot_pacf(calendar.avg_oil, lags = 10)"
   ]
  },
  {
   "cell_type": "markdown",
   "id": "3ba680e7",
   "metadata": {
    "papermill": {
     "duration": 0.018316,
     "end_time": "2022-06-07T08:07:11.607209",
     "exception": false,
     "start_time": "2022-06-07T08:07:11.588893",
     "status": "completed"
    },
    "tags": []
   },
   "source": [
    "Oil price lags for the first 3 days should be enough:"
   ]
  },
  {
   "cell_type": "code",
   "execution_count": null,
   "id": "34115dca",
   "metadata": {
    "papermill": {
     "duration": 0.032977,
     "end_time": "2022-06-07T08:07:11.659139",
     "exception": false,
     "start_time": "2022-06-07T08:07:11.626162",
     "status": "completed"
    },
    "tags": []
   },
   "outputs": [],
   "source": [
    "n_lags = 3\n",
    "for l in range(1, n_lags + 1):\n",
    "    calendar[f'oil_lags{l}'] = calendar.avg_oil.shift(l)\n",
    "calendar.dropna(inplace = True)"
   ]
  },
  {
   "cell_type": "markdown",
   "id": "e0fe425e",
   "metadata": {
    "papermill": {
     "duration": 0.018325,
     "end_time": "2022-06-07T08:07:11.696194",
     "exception": false,
     "start_time": "2022-06-07T08:07:11.677869",
     "status": "completed"
    },
    "tags": []
   },
   "source": [
    "### Holiday features"
   ]
  },
  {
   "cell_type": "code",
   "execution_count": null,
   "id": "3155361e",
   "metadata": {
    "_kg_hide-input": true,
    "papermill": {
     "duration": 0.055235,
     "end_time": "2022-06-07T08:07:11.770277",
     "exception": false,
     "start_time": "2022-06-07T08:07:11.715042",
     "status": "completed"
    },
    "tags": []
   },
   "outputs": [],
   "source": [
    "hol = pd.read_csv('../input/store-sales-time-series-forecasting/holidays_events.csv',\n",
    "                  parse_dates = ['date'], infer_datetime_format = True,\n",
    "                  index_col = 'date').to_period('D')\n",
    "hol = hol[hol.locale == 'National']  # Only National holidays so there'll be no false positive.\n",
    "hol = hol.groupby(hol.index).first() # Remove duplicated holidays\n",
    "print(hol.shape)\n",
    "hol.head()"
   ]
  },
  {
   "cell_type": "code",
   "execution_count": null,
   "id": "96e8b1a3",
   "metadata": {
    "_kg_hide-input": true,
    "papermill": {
     "duration": 0.063532,
     "end_time": "2022-06-07T08:07:11.853293",
     "exception": false,
     "start_time": "2022-06-07T08:07:11.789761",
     "status": "completed"
    },
    "tags": []
   },
   "outputs": [],
   "source": [
    "calendar = calendar.join(hol)               # Joining calendar with holiday dataset\n",
    "calendar['dofw'] = calendar.index.dayofweek # Day of week\n",
    "calendar['wd'] = 1\n",
    "calendar.loc[calendar.dofw > 4, 'wd'] = 0   # If it's saturday or sunday then it's not Weekday\n",
    "calendar.loc[calendar.type == 'Work Day', 'wd'] = 1 # If it's Work Day event then it's a workday\n",
    "calendar.loc[calendar.type == 'Transfer', 'wd'] = 0 # If it's Transfer event then it's not a work day\n",
    "calendar.loc[calendar.type == 'Bridge', 'wd'] = 0 # If it's Bridge event then it's not a work day\n",
    "calendar.loc[(calendar.type == 'Holiday') & (calendar.transferred == False), 'wd'] = 0 # If it's holiday and the holiday is not transferred then it's non working day\n",
    "calendar.loc[(calendar.type == 'Holiday') & (calendar.transferred == True), 'wd'] = 1 # If it's holiday and transferred then it's working day\n",
    "calendar = pd.get_dummies(calendar, columns = ['dofw'], drop_first = True) # One-hot encoding (Make sure to drop one of the columns by 'drop_first = True')\n",
    "calendar = pd.get_dummies(calendar, columns = ['type']) # One-hot encoding for type holiday (No need to drop one of the columns because there's a \"No holiday\" already)\n",
    "calendar.drop(['locale', 'locale_name', 'description', 'transferred'], axis = 1, inplace = True) # Unused columns\n",
    "print(calendar.shape)\n",
    "calendar.head()"
   ]
  },
  {
   "cell_type": "markdown",
   "id": "34cdc74e",
   "metadata": {
    "papermill": {
     "duration": 0.019055,
     "end_time": "2022-06-07T08:07:11.891726",
     "exception": false,
     "start_time": "2022-06-07T08:07:11.872671",
     "status": "completed"
    },
    "tags": []
   },
   "source": [
    "### Time dependent features\n",
    "Wages in the public sector are paid every two weeks on the 15th and on the last day of the month"
   ]
  },
  {
   "cell_type": "code",
   "execution_count": null,
   "id": "8b1c75f0",
   "metadata": {
    "papermill": {
     "duration": 0.033597,
     "end_time": "2022-06-07T08:07:11.944726",
     "exception": false,
     "start_time": "2022-06-07T08:07:11.911129",
     "status": "completed"
    },
    "tags": []
   },
   "outputs": [],
   "source": [
    "calendar['wageday']=0\n",
    "calendar.loc[(calendar.index.to_timestamp().is_month_end) | (calendar.index.day == 15), 'wageday'] = 1"
   ]
  },
  {
   "cell_type": "code",
   "execution_count": null,
   "id": "f0f4b8d7",
   "metadata": {
    "_kg_hide-input": true,
    "papermill": {
     "duration": 7.507556,
     "end_time": "2022-06-07T08:07:19.471768",
     "exception": false,
     "start_time": "2022-06-07T08:07:11.964212",
     "status": "completed"
    },
    "tags": []
   },
   "outputs": [],
   "source": [
    "ax = plt.subplots(1,1,figsize = (20,4))\n",
    "train.loc[\"2016-07-01\":].filter(like = 'SCHOOL AND OFFICE SUPPLIES', axis=0).groupby([\"date\"]).sales.sum().plot(title = \"SCHOOL AND OFFICE SUPPLIES\")\n",
    "plt.show()"
   ]
  },
  {
   "cell_type": "markdown",
   "id": "46e1a84f",
   "metadata": {
    "papermill": {
     "duration": 0.020377,
     "end_time": "2022-06-07T08:07:19.512601",
     "exception": false,
     "start_time": "2022-06-07T08:07:19.492224",
     "status": "completed"
    },
    "tags": []
   },
   "source": [
    "School seasons - April and May, than August and September. Let's put this information into the flag:"
   ]
  },
  {
   "cell_type": "code",
   "execution_count": null,
   "id": "f7faffe2",
   "metadata": {
    "papermill": {
     "duration": 0.108013,
     "end_time": "2022-06-07T08:07:19.641206",
     "exception": false,
     "start_time": "2022-06-07T08:07:19.533193",
     "status": "completed"
    },
    "tags": []
   },
   "outputs": [],
   "source": [
    "school_season = []\n",
    "for i, r in calendar.iterrows():\n",
    "    if i.month in [4, 5, 8, 9] :\n",
    "        school_season.append(1)\n",
    "    else :\n",
    "        school_season.append(0)\n",
    "calendar['school_season'] = school_season"
   ]
  },
  {
   "cell_type": "markdown",
   "id": "ac64df03",
   "metadata": {
    "papermill": {
     "duration": 0.020257,
     "end_time": "2022-06-07T08:07:19.681828",
     "exception": false,
     "start_time": "2022-06-07T08:07:19.661571",
     "status": "completed"
    },
    "tags": []
   },
   "source": [
    "### Zero forecasting\n",
    "Some stores do not sell specific products at all OR probably stop selling products after some time (assortiment enhancement trials?). Which looks like the case for HOME APPLIANCES in certain stores.   \n",
    "So let's make it as a hard coded prediction with following logic: **15 days of zero sales** from 2017-08-01 till 2017-08-15 will lead to zero forecast. Except SCHOOL AND OFFICE SUPPLIES products, which has very specific seasonality pattern.\n",
    "Code credits to [@Ekrem Bayar](https://www.kaggle.com/ekrembayar/store-sales-ts-forecasting-a-comprehensive-guide#5.-Sales)\n",
    "> **Note**: Zero forecasting is one of the approaches to reduce compute & memory consumption. That definitley will be usefull for this notebook, keeping in mind amount of computations in CustomRegressor."
   ]
  },
  {
   "cell_type": "code",
   "execution_count": null,
   "id": "df908db6",
   "metadata": {
    "_kg_hide-input": true,
    "papermill": {
     "duration": 0.373911,
     "end_time": "2022-06-07T08:07:20.076435",
     "exception": false,
     "start_time": "2022-06-07T08:07:19.702524",
     "status": "completed"
    },
    "tags": []
   },
   "outputs": [],
   "source": [
    "c = train.groupby([\"store_nbr\",\"family\"]).tail(15).groupby([\"store_nbr\",\"family\"]).sales.sum().reset_index()\n",
    "c = c[c.sales == 0].drop(\"sales\",axis = 1)\n",
    "c = c[c.family != \"SCHOOL AND OFFICE SUPPLIES\"]\n",
    "c.shape"
   ]
  },
  {
   "cell_type": "code",
   "execution_count": null,
   "id": "20f113e5",
   "metadata": {
    "_kg_hide-input": true,
    "papermill": {
     "duration": 2.858327,
     "end_time": "2022-06-07T08:07:22.955682",
     "exception": false,
     "start_time": "2022-06-07T08:07:20.097355",
     "status": "completed"
    },
    "tags": []
   },
   "outputs": [],
   "source": [
    "print(\"Shape of train before zero forecasting:\", train.shape)\n",
    "outer_join = train.reset_index().merge(c, how = 'outer', indicator = True)\n",
    "train = outer_join[~(outer_join._merge == 'both')].drop('_merge', axis = 1)\n",
    "train = train.set_index(['date', 'store_nbr', 'family']).sort_index()\n",
    "del outer_join\n",
    "gc.collect()\n",
    "print(\"Shape of train after zero forecasting:\", train.shape)"
   ]
  },
  {
   "cell_type": "markdown",
   "id": "0cf3ab15",
   "metadata": {
    "papermill": {
     "duration": 0.020308,
     "end_time": "2022-06-07T08:07:22.996491",
     "exception": false,
     "start_time": "2022-06-07T08:07:22.976183",
     "status": "completed"
    },
    "tags": []
   },
   "source": [
    "As you can see - now we removed zero sales from train data, so lets' save it into separate dataframe. And then append to test set on submission phase"
   ]
  },
  {
   "cell_type": "code",
   "execution_count": null,
   "id": "7cf173a7",
   "metadata": {
    "papermill": {
     "duration": 0.361994,
     "end_time": "2022-06-07T08:07:23.379811",
     "exception": false,
     "start_time": "2022-06-07T08:07:23.017817",
     "status": "completed"
    },
    "tags": []
   },
   "outputs": [],
   "source": [
    "zero_prediction = []\n",
    "for i in range(0, len(c)):\n",
    "    zero_prediction.append(\n",
    "        pd.DataFrame({\n",
    "            \"date\":pd.date_range(\"2017-08-16\", \"2017-08-31\").tolist(),\n",
    "            \"store_nbr\":c.store_nbr.iloc[i],\n",
    "            \"family\":c.family.iloc[i],\n",
    "            \"sales\":0\n",
    "        })\n",
    "    )\n",
    "zero_prediction = pd.concat(zero_prediction)\n",
    "zero_prediction['date'] = zero_prediction.date.dt.to_period('D')\n",
    "del c\n",
    "gc.collect()\n",
    "zero_prediction = zero_prediction.set_index(['date', 'store_nbr', 'family'])\n",
    "zero_prediction.head()"
   ]
  },
  {
   "cell_type": "markdown",
   "id": "cced9e7f",
   "metadata": {
    "papermill": {
     "duration": 0.021104,
     "end_time": "2022-06-07T08:07:23.422603",
     "exception": false,
     "start_time": "2022-06-07T08:07:23.401499",
     "status": "completed"
    },
    "tags": []
   },
   "source": [
    "### Week seasonality features"
   ]
  },
  {
   "cell_type": "markdown",
   "id": "4d923050",
   "metadata": {
    "papermill": {
     "duration": 0.020873,
     "end_time": "2022-06-07T08:07:23.465312",
     "exception": false,
     "start_time": "2022-06-07T08:07:23.444439",
     "status": "completed"
    },
    "tags": []
   },
   "source": [
    "It's important to select training period correctly. Let's check stores opening, as we want a period where ALL data for all stores are available, so there is **no zero sales values as store hasn't been opened yet**"
   ]
  },
  {
   "cell_type": "code",
   "execution_count": null,
   "id": "dbf6337e",
   "metadata": {
    "_kg_hide-input": true,
    "_kg_hide-output": false,
    "papermill": {
     "duration": 0.245888,
     "end_time": "2022-06-07T08:07:23.732076",
     "exception": false,
     "start_time": "2022-06-07T08:07:23.486188",
     "status": "completed"
    },
    "tags": []
   },
   "outputs": [],
   "source": [
    "a = train.groupby([\"date\",\"store_nbr\"]).sum().reset_index()\n",
    "a = a[a[\"sales\"] > 0].groupby(\"store_nbr\")[[\"date\"]].min().sort_values(by=\"date\",ascending = False).head(5)\n",
    "a.rename(columns = {'date':'open_date'}, inplace = True)\n",
    "a"
   ]
  },
  {
   "cell_type": "markdown",
   "id": "153d3288",
   "metadata": {
    "papermill": {
     "duration": 0.020499,
     "end_time": "2022-06-07T08:07:23.773771",
     "exception": false,
     "start_time": "2022-06-07T08:07:23.753272",
     "status": "completed"
    },
    "tags": []
   },
   "source": [
    "Store #52 was the latest opened store (**open date is 2017-04-20**),\n",
    "so let's take next date as start - **2017-04-21**: "
   ]
  },
  {
   "cell_type": "code",
   "execution_count": null,
   "id": "ba79c901",
   "metadata": {
    "papermill": {
     "duration": 0.803738,
     "end_time": "2022-06-07T08:07:24.598805",
     "exception": false,
     "start_time": "2022-06-07T08:07:23.795067",
     "status": "completed"
    },
    "tags": []
   },
   "outputs": [],
   "source": [
    "y = train.unstack(['store_nbr', 'family']).loc[\"2017-04-21\":]\n",
    "fourier = CalendarFourier(freq = 'W', order = 3)\n",
    "dp = DeterministicProcess(index = y.index,\n",
    "                          order = 1,\n",
    "                          seasonal = False,\n",
    "                          constant = False,\n",
    "                          additional_terms = [fourier],\n",
    "                          drop = True)\n",
    "x = dp.in_sample()\n",
    "x = x.join(calendar)\n",
    "x.index.name = \"date\"\n",
    "\n",
    "# Test will have a prediction for the next 16 days from 15.08 till 31.08\n",
    "xtest = dp.out_of_sample(steps = 16) \n",
    "xtest = xtest.join(calendar)\n",
    "xtest.index.name = \"date\"\n",
    "\n",
    "del hol\n",
    "del calendar\n",
    "del dp\n",
    "del oil\n",
    "_ = gc.collect()"
   ]
  },
  {
   "cell_type": "markdown",
   "id": "b0efaf41",
   "metadata": {
    "papermill": {
     "duration": 0.020728,
     "end_time": "2022-06-07T08:07:24.640581",
     "exception": false,
     "start_time": "2022-06-07T08:07:24.619853",
     "status": "completed"
    },
    "tags": []
   },
   "source": [
    "_____________________________________\n",
    "## 2️⃣ Quick analysis of Multivariate Time Series data\n",
    "\n",
    "First, what is a multivariate time series?  \n",
    "\"A Multivariate Time Series consist of more than one time-dependent variable and each variable depends not only on its past values but also has **some dependency on other variables**.\"  \n",
    "What we have in this playground competition is a Multivariate TS - each combination of FAMILY x STORE is a *SEPARATE* Time Series. And we have 33 x 54 = 1782 TS values (**y** to predict). If we take into account our zero forecasting trick, we get 1658 different TS, which is a little better.\n",
    "\n",
    "So let's build a correlation matrix between time-dependent variables (product families here), as it's a very well known fact, that for the FMCG goods there is a strong correlation between product categories - when buying product X, consumer buys product Y as well:\n",
    "\n",
    "[⬇️ Step 3](#3️⃣-Find-relevant-external-features-for-several-TS-components-in-Multivariate-Time-Series)\n"
   ]
  },
  {
   "cell_type": "code",
   "execution_count": null,
   "id": "cbcebb32",
   "metadata": {
    "_kg_hide-input": true,
    "papermill": {
     "duration": 2.768579,
     "end_time": "2022-06-07T08:07:27.430471",
     "exception": false,
     "start_time": "2022-06-07T08:07:24.661892",
     "status": "completed"
    },
    "tags": []
   },
   "outputs": [],
   "source": [
    "#from 2017-04-30 for faster calculation\n",
    "a = train[\"2017-04-30\":].reset_index()\n",
    "a[\"ind\"] = 1\n",
    "a[\"ind\"] = a.groupby(\"family\").ind.cumsum().values\n",
    "a = pd.pivot(a, index = \"ind\", columns = \"family\", values = \"sales\").corr(method=\"spearman\")\n",
    "mask = np.triu(a.corr(method=\"spearman\"))\n",
    "plt.figure(figsize=(20, 20))\n",
    "sns.heatmap(a,\n",
    "        annot=True,\n",
    "        fmt='.1f',\n",
    "        cmap='coolwarm',\n",
    "        square=True,\n",
    "        mask=mask,\n",
    "        linewidths=1,\n",
    "        cbar=False)\n",
    "plt.title(\"Sales correlations for product families\",fontsize = 20)\n",
    "plt.show()"
   ]
  },
  {
   "cell_type": "markdown",
   "id": "e3e5e768",
   "metadata": {
    "papermill": {
     "duration": 0.026736,
     "end_time": "2022-06-07T08:07:27.484315",
     "exception": false,
     "start_time": "2022-06-07T08:07:27.457579",
     "status": "completed"
    },
    "tags": []
   },
   "source": [
    "**BABY CARE, BOOKS, HOME APPLIANCES, LADIESWEAR, LAWN AND GARDEN, PET SUPPLIES** are not correlated with other products sales at all.  \n",
    "**SCHOOL AND OFFICE SUPPLIES, LINGERIE** has a very low correlation.\n",
    "But the rest of the product families' sales are all correlated, so **we clearly have a multivariate time series task.**  \n",
    "\n",
    "> **Note:** We can use sales forecast of other products families in the SAME store **as A FEATURE** to improve prediction accuracy of specific product, as there's an influence on sales numbers between products. This is what we'll do later.  \n",
    "\n",
    "Now let's check trends, seasonality and anomalies for these low correlated product families:"
   ]
  },
  {
   "cell_type": "code",
   "execution_count": null,
   "id": "1d760c17",
   "metadata": {
    "_kg_hide-input": true,
    "papermill": {
     "duration": 53.367431,
     "end_time": "2022-06-07T08:08:20.878651",
     "exception": false,
     "start_time": "2022-06-07T08:07:27.511220",
     "status": "completed"
    },
    "tags": []
   },
   "outputs": [],
   "source": [
    "fig, ax = plt.subplots(1,2,figsize = (20,4))\n",
    "train.loc[\"2016-08-01\":].filter(like = 'BABY CARE', axis=0).groupby([\"date\"]).sales.sum().plot(ax = ax[0], title = \"BABY CARE\")\n",
    "train.loc[\"2016-08-01\":].filter(like = 'BOOKS', axis=0).groupby([\"date\"]).sales.sum().plot(ax = ax[1], title = \"BOOKS\")\n",
    "plt.show()\n",
    "fig, ax = plt.subplots(1,2,figsize = (20,4))\n",
    "train.loc[\"2016-01-01\":].filter(like = 'HOME APPLIANCES', axis=0).groupby([\"date\"]).sales.sum().plot(ax = ax[0], title = \"HOME APPLIANCES\")\n",
    "train.loc[\"2016-08-01\":].filter(like = 'LADIESWEAR', axis=0).groupby([\"date\"]).sales.sum().plot(ax = ax[1], title = \"LADIESWEAR\")\n",
    "plt.show()\n",
    "fig, ax = plt.subplots(1,2,figsize = (20,4))\n",
    "train.loc[\"2016-08-01\":].filter(like = 'LAWN AND GARDEN', axis=0).groupby([\"date\"]).sales.sum().plot(ax = ax[0], title = \"LAWN AND GARDEN\")\n",
    "train.loc[\"2016-08-01\":].filter(like = 'PET SUPPLIES', axis=0).groupby([\"date\"]).sales.sum().plot(ax = ax[1], title = \"PET SUPPLIES\")\n",
    "plt.show()\n",
    "fig, ax = plt.subplots(1,2,figsize = (20,4))\n",
    "train.loc[\"2016-08-01\":].filter(like = 'SCHOOL AND OFFICE SUPPLIES', axis=0).groupby([\"date\"]).sales.sum().plot(ax = ax[0], title = \"SCHOOL AND OFFICE SUPPLIES\")\n",
    "train.loc[\"2016-08-01\":].filter(like = 'LINGERIE', axis=0).groupby([\"date\"]).sales.sum().plot(ax = ax[1], title = \"LINGERIE\")\n",
    "plt.show()"
   ]
  },
  {
   "cell_type": "markdown",
   "id": "a367bd2b",
   "metadata": {
    "papermill": {
     "duration": 0.034991,
     "end_time": "2022-06-07T08:08:20.949616",
     "exception": false,
     "start_time": "2022-06-07T08:08:20.914625",
     "status": "completed"
    },
    "tags": []
   },
   "source": [
    "**What we see here:**\n",
    "* 1st of January has zero sales - ie stores are closed on 1st of Jan. Make sense to start train period after 2017.01.01, just to avoid extra feature engineering on closing dates\n",
    "* SCHOOL AND OFFICE SUPPLIES - looks like a [non-stationary TS](https://towardsdatascience.com/stationarity-in-time-series-analysis-90c94f27322), let's check that using Augmented Dickey-Fuller test further. Looks like this **y** will be difficult to predict by linear models, tree based models might be a better fit;\n",
    "* BOOKS -  this product category might be some kind of an assortiment trial and on clearance since the begining of 2017. Sharp sales decline might be result of assortiment decline, which for books lead to near zero daily sales. Same - tree based models might have a better prediction results;\n",
    "* LAWN AND GARDEN - there is an uplift in sales numbers from Dec'2016, most probably from introduction of this product category in more stores around the country. Feel free to check that ;-). But in overall - no specific ideas in terms of model type selection - ie linear models should be ok, as soon as you'll start train period **at least from 2017-01-02**;\n",
    "* HOME APPLIANCES - looks like a non-stationary TS, let's check that using Augmented Dickey-Fuller test further. Tree based models might be a better fit for this product family;\n",
    "* PET SUPPLIES - some monotonic trend component in TS, non-stationary TS;\n",
    "* LINGERIE - same, some monotonic trend component in TS, non-stationary TS;\n",
    "\n",
    "Let's check our time series for Stationarity using [Augmented Dickey-Fuller test](https://en.wikipedia.org/wiki/Augmented_Dickey–Fuller_test) with a significance level of less than 5%.  \n",
    "The intuition behind this test is that it determines how strongly a time series is defined by a trend.  \n",
    "As an example, let's take PET SUPPLIES, feel free to do the same for the rest of the \"suspicious\" product families:"
   ]
  },
  {
   "cell_type": "code",
   "execution_count": null,
   "id": "38ad5f27",
   "metadata": {
    "_kg_hide-input": false,
    "papermill": {
     "duration": 0.062542,
     "end_time": "2022-06-07T08:08:21.047203",
     "exception": false,
     "start_time": "2022-06-07T08:08:20.984661",
     "status": "completed"
    },
    "tags": []
   },
   "outputs": [],
   "source": [
    "result = adfuller(\n",
    "    np.log1p(\n",
    "        y.loc[\"2016-08-01\":, y.columns.get_level_values(\"family\").isin([\"PET SUPPLIES\"])].mean(axis=\"columns\")\n",
    "    )\n",
    ")\n",
    "print('ADF Statistic: %f' % result[0])\n",
    "print('p-value: %f' % result[1])\n",
    "print('Critical Values:')\n",
    "for key, value in result[4].items():\n",
    "    print('\\t%s: %.3f' % (key, value))\n",
    "\n",
    "if result[0] < result[4][\"1%\"]:\n",
    "    print (\"Reject Ho - Time Series is Stationary\")\n",
    "else:\n",
    "    print (\"Failed to Reject Ho - Time Series is Non-Stationary\")"
   ]
  },
  {
   "cell_type": "markdown",
   "id": "bc3768ce",
   "metadata": {
    "papermill": {
     "duration": 0.035433,
     "end_time": "2022-06-07T08:08:21.119217",
     "exception": false,
     "start_time": "2022-06-07T08:08:21.083784",
     "status": "completed"
    },
    "tags": []
   },
   "source": [
    "Ok, now we want to test **tree based regressors (not linear)** for non-satitionary TS with a low multivariate correlation.  \n",
    "I did it already and found out, that only \"SCHOOL AND OFFICE SUPPLIES\", \"BOOKS\" families will have an improvement from Tree based regressors vs. baseline Ridge.  \n",
    "For these product families I'll use **GradientBoostingRegressor + ExtraTreesRegressor ensemble model**:"
   ]
  },
  {
   "cell_type": "code",
   "execution_count": null,
   "id": "6579c06e",
   "metadata": {
    "papermill": {
     "duration": 0.043,
     "end_time": "2022-06-07T08:08:21.198671",
     "exception": false,
     "start_time": "2022-06-07T08:08:21.155671",
     "status": "completed"
    },
    "tags": []
   },
   "outputs": [],
   "source": [
    "non_st_ts = [\"SCHOOL AND OFFICE SUPPLIES\",\"BOOKS\"]"
   ]
  },
  {
   "cell_type": "code",
   "execution_count": null,
   "id": "dcab4999",
   "metadata": {
    "_kg_hide-input": true,
    "_kg_hide-output": false,
    "papermill": {
     "duration": 1.366364,
     "end_time": "2022-06-07T08:08:22.601201",
     "exception": false,
     "start_time": "2022-06-07T08:08:21.234837",
     "status": "completed"
    },
    "tags": []
   },
   "outputs": [],
   "source": [
    "a = train.groupby(\"family\").sales.mean().sort_values(ascending = False).reset_index()\n",
    "px.bar(a, y = \"family\", x=\"sales\", color = \"family\", title = \"Top selling product families\")"
   ]
  },
  {
   "cell_type": "markdown",
   "id": "948d0208",
   "metadata": {
    "papermill": {
     "duration": 0.035761,
     "end_time": "2022-06-07T08:08:22.672614",
     "exception": false,
     "start_time": "2022-06-07T08:08:22.636853",
     "status": "completed"
    },
    "tags": []
   },
   "source": [
    "In FMCG high sales product categories usually have a low price elastisity and strong intra-week correlation.  \n",
    "So, let's take TOP-40% most sold product families (personal guess, feel free to improve that 😉) and add **K-nearest neighbors regressor** (for strong intra-week/week seasonality) and **Bayesian regressor** into ensemble model for them.  \n",
    "To simplify the things in CustomRegressor - I'll use inverse logic, with bottom 60% of low sales products in the separate list."
   ]
  },
  {
   "cell_type": "code",
   "execution_count": null,
   "id": "33cb8475",
   "metadata": {
    "papermill": {
     "duration": 0.044966,
     "end_time": "2022-06-07T08:08:22.753822",
     "exception": false,
     "start_time": "2022-06-07T08:08:22.708856",
     "status": "completed"
    },
    "tags": []
   },
   "outputs": [],
   "source": [
    "low_sales_ts = [\"MAGAZINES\",\"LAWN AND GARDEN\",\"BABY CARE\",\n",
    "                \"CELEBRATION\",\"GROCERY II\",\"HARDWARE\",\"AUTOMOTIVE\",\n",
    "                \"HOME AND KITCHEN I\",\"HOME AND KITCHEN II\",\n",
    "                \"HOME APPLIANCES\",\"LINGERIE\",\n",
    "                \"LADIESWEAR\",\"SEAFOOD\",\"PLAYERS AND ELECTRONICS\",\n",
    "                \"PET SUPPLIES\",\"BEAUTY\",\"PREPARED FOODS\",\n",
    "                \"HOME CARE\",\"CLEANING\"]"
   ]
  },
  {
   "cell_type": "markdown",
   "id": "829de14b",
   "metadata": {
    "papermill": {
     "duration": 0.035457,
     "end_time": "2022-06-07T08:08:22.824949",
     "exception": false,
     "start_time": "2022-06-07T08:08:22.789492",
     "status": "completed"
    },
    "tags": []
   },
   "source": [
    "Let's take start date with some margin to stabilize sales numbers after opening - **2017-04-30**:"
   ]
  },
  {
   "cell_type": "code",
   "execution_count": null,
   "id": "cd02d3d0",
   "metadata": {
    "papermill": {
     "duration": 0.045285,
     "end_time": "2022-06-07T08:08:22.906173",
     "exception": false,
     "start_time": "2022-06-07T08:08:22.860888",
     "status": "completed"
    },
    "tags": []
   },
   "outputs": [],
   "source": [
    "sdate = '2017-04-30'\n",
    "x=x.loc[sdate:]\n",
    "y=y.loc[sdate:]"
   ]
  },
  {
   "cell_type": "markdown",
   "id": "1e941403",
   "metadata": {
    "papermill": {
     "duration": 0.03576,
     "end_time": "2022-06-07T08:08:22.979250",
     "exception": false,
     "start_time": "2022-06-07T08:08:22.943490",
     "status": "completed"
    },
    "tags": []
   },
   "source": [
    "## 3️⃣ Find relevant external features for several TS components in Multivariate Time Series\n",
    "### Step 3.1 Select columns for external features search  \n",
    "\n",
    "To find new features we'll use [Upgini Feature search and enrichment library for supervised machine learning applications](https://github.com/upgini/upgini#readme).\n",
    "\n",
    "To initiate search with Upgini library, you need to define so called [*search keys*](https://github.com/upgini/upgini#-search-key-types-we-support-more-is-coming) - a set of columns to join external data sources and features. In this competition we can use the following keys:\n",
    "\n",
    "1. Column **date** should be used as **SearchKey.DATE**.;  \n",
    "2. **Country** as \"EC\" (ISO-3166 country code for Ecuador), as all the data came from Favorita retailer in Ecuador.\n",
    "    \n",
    "With this set of search keys, our dataset will be matched with [different time-specific features (such as weather data, calendar data, financial data, etc)](https://github.com/upgini/upgini#-connected-data-sources-and-coverage), taking into account the country where sales happened. Than relevant selection and ranking will be done.  \n",
    "As a result, we'll add new, only relevant features with additional information about specific dates in Ecuador.  \n",
    "\n",
    "We already have date as index in *train* and *test* datasets, so let's use it. Index name is `date`, so column will have the same name.   \n",
    "\n",
    "To start the search, we need to initiate *scikit-learn* compartible `FeaturesEnricher` transformer with appropriate **search** parameters and cross-validation type (here we use [TimeSeries](https://scikit-learn.org/stable/modules/generated/sklearn.model_selection.TimeSeriesSplit.html) CV, because our target variable strongly depends on time, ie we have TS prediction task).  \n",
    "After that, we can call the **fit** or **fit_transform**  method of `features_enricher` to start the search.\n",
    "\n",
    "[⬇️ Step 4](#4️⃣-Train-final-model)\n"
   ]
  },
  {
   "cell_type": "code",
   "execution_count": null,
   "id": "8a028711",
   "metadata": {
    "papermill": {
     "duration": 5.256208,
     "end_time": "2022-06-07T08:08:28.271198",
     "exception": false,
     "start_time": "2022-06-07T08:08:23.014990",
     "status": "completed"
    },
    "tags": []
   },
   "outputs": [],
   "source": [
    "from upgini import FeaturesEnricher, SearchKey, ModelTaskType\n",
    "from upgini.metadata import CVType\n",
    "\n",
    "enricher = FeaturesEnricher(\n",
    "    # search keys for feature enrichment - date and country\n",
    "    search_keys={\n",
    "        \"date\": SearchKey.DATE\n",
    "    },\n",
    "    country_code = \"EC\",\n",
    "    # time series prediction tasks for relevant external feature selection\n",
    "    cv = CVType.time_series,\n",
    ")"
   ]
  },
  {
   "cell_type": "markdown",
   "id": "21ecde78",
   "metadata": {
    "papermill": {
     "duration": 0.035351,
     "end_time": "2022-06-07T08:08:28.342529",
     "exception": false,
     "start_time": "2022-06-07T08:08:28.307178",
     "status": "completed"
    },
    "tags": []
   },
   "source": [
    "### Step 3.2 Re-use existing training dataset and generate Univariate TS from Multivariate TS\n",
    "For `FeaturesEnricher.fit_transform()` method, just like in all scikit-learn transformers, we should pass **X_train** as the first argument and **y_train** as the second argument.   \n",
    "**y_train** is needed to select **only relevant features & datasets, which will improve accuracy**. And rank new external features according to their prediction contribution.  \n",
    "Multioutput is not supported yet in `FeaturesEnricher` transformer  (supported dimension of y = 1), but that's what we have in this competition - each combination of FAMILY x STORE is a *SEPARATE* time series/y. And we have 1658 different **y** (considering Zero forecast). \n",
    "\n",
    "Workaround is very simpe - let's search for the new features to predict **mean number of daily sales in all stores for ONE product family**. And then enrich all **X_train** and **y** for THIS product family in Multivariate TS. As the same product category should be influenced by the same new features, no matter what store we predict.\n",
    "\n",
    "As example, let's try to find features relevant for LIQUOR,WINE,BEER and CLEANING families, one by one - this types of FMCG goods usually have a strong correlation with holidays and work week calendar. And Upgini has a lot of datascources and features with types of holiday, distance to holidays, holidays influence scores on specific commercial activities, etc. for 232 countries with 22 years of history.  \n"
   ]
  },
  {
   "cell_type": "markdown",
   "id": "acd1f42c",
   "metadata": {
    "papermill": {
     "duration": 0.03596,
     "end_time": "2022-06-07T08:08:28.414812",
     "exception": false,
     "start_time": "2022-06-07T08:08:28.378852",
     "status": "completed"
    },
    "tags": []
   },
   "source": [
    "That's just a quick guess, feel free to test other product families by fork & change of this kernel 😉"
   ]
  },
  {
   "cell_type": "code",
   "execution_count": null,
   "id": "2d79f260",
   "metadata": {
    "papermill": {
     "duration": 0.050717,
     "end_time": "2022-06-07T08:08:28.501998",
     "exception": false,
     "start_time": "2022-06-07T08:08:28.451281",
     "status": "completed"
    },
    "tags": []
   },
   "outputs": [],
   "source": [
    "enriched_ts_map = {}\n",
    "y_fe_1 = y.loc[:, y.columns.get_level_values(\"family\").isin([\"LIQUOR,WINE,BEER\"])].mean(axis=\"columns\")\n",
    "y_fe_2 = y.loc[:, y.columns.get_level_values(\"family\").isin([\"CLEANING\"])].mean(axis=\"columns\")\n",
    "\n",
    "# log transform to reshape y distribution closer to normal, as we'll use same approach in the final model\n",
    "y_fe_1 = np.log1p(y_fe_1)\n",
    "y_fe_2 = np.log1p(y_fe_2)"
   ]
  },
  {
   "cell_type": "markdown",
   "id": "12d100c8",
   "metadata": {
    "papermill": {
     "duration": 0.035829,
     "end_time": "2022-06-07T08:08:28.573608",
     "exception": false,
     "start_time": "2022-06-07T08:08:28.537779",
     "status": "completed"
    },
    "tags": []
   },
   "source": [
    "### Step 3.3 Initiate feature search and enrichment  \n",
    "`FeaturesEnricher.fit_transform()` has a flag `calculate_metrics` for the quick estimation of quality improvement from the new external features on cross-validation and eval sets. This step is quite similar to [sklearn.model_selection.cross_val_score](https://scikit-learn.org/stable/modules/cross_validation.html#computing-cross-validated-metrics), so you can pass exact metric with `scoring` parameter:\n",
    "\n",
    "1. Built-in scoring [functions](https://github.com/upgini/upgini/blob/main/README.md#-accuracy-and-uplift-metrics-calculations);\n",
    "2. Custom scorer.    \n",
    " \n",
    "Notice that you should pass **X_train** as the first argument and **y_train** as the second argument for `FeaturesEnricher.fit_transform()`, just like in scikit-learn.  \n",
    "\n",
    "*Step will take around 2 minutes*"
   ]
  },
  {
   "cell_type": "code",
   "execution_count": null,
   "id": "0d015768",
   "metadata": {
    "papermill": {
     "duration": 83.883287,
     "end_time": "2022-06-07T08:09:52.492846",
     "exception": false,
     "start_time": "2022-06-07T08:08:28.609559",
     "status": "completed"
    },
    "tags": []
   },
   "outputs": [],
   "source": [
    "%%time\n",
    "from upgini import FeaturesEnricher, SearchKey, ModelTaskType\n",
    "from upgini.metadata import RuntimeParameters, CVType\n",
    "\n",
    "# LIQUOR,WINE,BEER\n",
    "X_enriched = enricher.fit_transform(\n",
    "    x.copy().reset_index(), \n",
    "    y_fe_1.reset_index(drop=True).values,\n",
    "    calculate_metrics=True,\n",
    "    keep_input=True, #optional, save all initial columns from input data frame,\n",
    "    max_features=2,  #optional, enrich X ONLY with TOP2 new features based on SHAP value\n",
    ").set_index(\"date\")"
   ]
  },
  {
   "cell_type": "markdown",
   "id": "16114d0e",
   "metadata": {
    "papermill": {
     "duration": 0.069818,
     "end_time": "2022-06-07T08:09:52.627593",
     "exception": false,
     "start_time": "2022-06-07T08:09:52.557775",
     "status": "completed"
    },
    "tags": []
   },
   "source": [
    "We've got **3 new relevant external features**, which might improve accuracy of the model ranked by [SHAP values](https://en.wikipedia.org/wiki/Shapley_value).   \n",
    "\n",
    "Initial features from search dataset will be checked for relevancy as well, so you don't need an extra feature selection step.\n",
    "\n",
    "MSE uplift after enrichment using all of the new external features is *positive* and *significant* - more than +30%.  \n",
    "We enriched initial feature space with only **TOP-2** most important features, according to the SHAP values (parameter `max_features=2`).\n",
    "\n",
    ">Generally it's a bad idea to put a lot of features with unknown structure (and possibly high pairwise correlation) into a linear model, even with regularization like Ridge or Lasso, without careful selection and pre-processing.\n",
    "\n",
    "Let's add these **TOP-2** features to external features map (enriched_ts_map) with key LIQUOR,WINE,BEER:"
   ]
  },
  {
   "cell_type": "code",
   "execution_count": null,
   "id": "2af6a2e2",
   "metadata": {
    "papermill": {
     "duration": 0.072779,
     "end_time": "2022-06-07T08:09:52.765748",
     "exception": false,
     "start_time": "2022-06-07T08:09:52.692969",
     "status": "completed"
    },
    "tags": []
   },
   "outputs": [],
   "source": [
    "enriched_ts_map[\"LIQUOR,WINE,BEER\"] = list(set(X_enriched.columns) - set(x.columns))"
   ]
  },
  {
   "cell_type": "markdown",
   "id": "78495d39",
   "metadata": {
    "papermill": {
     "duration": 0.065137,
     "end_time": "2022-06-07T08:09:52.894657",
     "exception": false,
     "start_time": "2022-06-07T08:09:52.829520",
     "status": "completed"
    },
    "tags": []
   },
   "source": [
    "Next step is to enrich test dataset with the **TOP-2** new features as well. And that's all for enrichment step.  \n",
    "\n",
    "*Step will take around 2 minutes*"
   ]
  },
  {
   "cell_type": "code",
   "execution_count": null,
   "id": "51b4f658",
   "metadata": {
    "papermill": {
     "duration": 83.200824,
     "end_time": "2022-06-07T08:11:16.160600",
     "exception": false,
     "start_time": "2022-06-07T08:09:52.959776",
     "status": "completed"
    },
    "tags": []
   },
   "outputs": [],
   "source": [
    "X_test_enriched = enricher.transform(\n",
    "    xtest.copy().reset_index(),\n",
    "    keep_input=True,\n",
    "    max_features=2, \n",
    ").set_index(\"date\")"
   ]
  },
  {
   "cell_type": "markdown",
   "id": "680b5615",
   "metadata": {
    "papermill": {
     "duration": 0.096462,
     "end_time": "2022-06-07T08:11:16.352631",
     "exception": false,
     "start_time": "2022-06-07T08:11:16.256169",
     "status": "completed"
    },
    "tags": []
   },
   "source": [
    "Now, the same `fit_transform` step for CLEANING product family. Using enrichment pipelining for already enriched `X_enriched` and `X_test_enriched`."
   ]
  },
  {
   "cell_type": "code",
   "execution_count": null,
   "id": "b183bb5c",
   "metadata": {
    "papermill": {
     "duration": 188.901165,
     "end_time": "2022-06-07T08:14:25.347241",
     "exception": false,
     "start_time": "2022-06-07T08:11:16.446076",
     "status": "completed"
    },
    "tags": []
   },
   "outputs": [],
   "source": [
    "# CLEANING\n",
    "X_enriched2 = enricher.fit_transform(\n",
    "    X_enriched.reset_index(), \n",
    "    y_fe_2.reset_index(drop=True).values,\n",
    "    calculate_metrics=True,\n",
    "    keep_input=True, \n",
    "    max_features=2,\n",
    ").set_index(\"date\")\n",
    "\n",
    "X_test_enriched2 = enricher.transform(\n",
    "    X_test_enriched.reset_index(),\n",
    "    keep_input=True,\n",
    "    max_features=2, \n",
    ").set_index(\"date\")"
   ]
  },
  {
   "cell_type": "markdown",
   "id": "679fa8b6",
   "metadata": {
    "papermill": {
     "duration": 0.158873,
     "end_time": "2022-06-07T08:14:25.671808",
     "exception": false,
     "start_time": "2022-06-07T08:14:25.512935",
     "status": "completed"
    },
    "tags": []
   },
   "source": [
    "Again, let's add most important features to external features map with key CLEANING:"
   ]
  },
  {
   "cell_type": "code",
   "execution_count": null,
   "id": "16997945",
   "metadata": {
    "papermill": {
     "duration": 0.167068,
     "end_time": "2022-06-07T08:14:25.997459",
     "exception": false,
     "start_time": "2022-06-07T08:14:25.830391",
     "status": "completed"
    },
    "tags": []
   },
   "outputs": [],
   "source": [
    "enriched_ts_map[\"CLEANING\"] = list(set(X_enriched2.columns) - set(X_enriched.columns))"
   ]
  },
  {
   "cell_type": "markdown",
   "id": "4613b72c",
   "metadata": {
    "papermill": {
     "duration": 0.156743,
     "end_time": "2022-06-07T08:14:26.312335",
     "exception": false,
     "start_time": "2022-06-07T08:14:26.155592",
     "status": "completed"
    },
    "tags": []
   },
   "source": [
    "### Summary on external feature search & enrichment"
   ]
  },
  {
   "cell_type": "code",
   "execution_count": null,
   "id": "9341e1d4",
   "metadata": {
    "_kg_hide-input": true,
    "papermill": {
     "duration": 0.343594,
     "end_time": "2022-06-07T08:14:26.816057",
     "exception": false,
     "start_time": "2022-06-07T08:14:26.472463",
     "status": "completed"
    },
    "tags": []
   },
   "outputs": [],
   "source": [
    "print(\"Number of features, initial -> after enrichment:\",x.shape[1],\"->\",X_enriched2.shape[1])\n",
    "int_features = set(x.columns.to_list())\n",
    "ext_features = [col for ext_features_ in enriched_ts_map.values() for col in ext_features_]\n",
    "\n",
    "x = X_enriched2\n",
    "xtest = X_test_enriched2\n",
    "del X_enriched, X_enriched2\n",
    "del X_test_enriched, X_test_enriched2\n",
    "del y_fe_1\n",
    "del y_fe_2\n",
    "_ = gc.collect()"
   ]
  },
  {
   "cell_type": "markdown",
   "id": "4a50ad7d",
   "metadata": {
    "papermill": {
     "duration": 0.157964,
     "end_time": "2022-06-07T08:14:27.131877",
     "exception": false,
     "start_time": "2022-06-07T08:14:26.973913",
     "status": "completed"
    },
    "tags": []
   },
   "source": [
    "## 4️⃣ Train final model\n",
    "### 4.1 Same store sales predictions as new features (\"not-so-blending\")\n",
    "\n",
    "Once again - it's a very well known fact, that for the FMCG goods there is a strong correlation between product categories - when buying product X, consumer buys product Y as well.  \n",
    "And we already check what product families are correlated and what is not. Most of the product famlilies are correlated (25 of 33).\n",
    "So let's try to use sales PREDICTION by product family as a new features, to catch information on joint sales\n",
    "> **Note on original notebook approach**: This approach was called \"blending\" in the original notebook. But there was no holdout set to avoid overfitting  and blending linear model are being trained on the same data as the ensembling (final) model. I strongly recommend you to read about blending with great visualisation [here](https://towardsdatascience.com/ensemble-learning-stacking-blending-voting-b37737c4f483). In addition to that, in a final Custom Regressor there was no filter \"same store sales predictions\" and sales from ALL stores was used as features for every single store, so I fixed that.\n",
    "\n",
    "[⬇️ Step 5](#5️⃣-Submit-prediction-with-enriched-features-and-calculate-final-leaderbord-progress)"
   ]
  },
  {
   "cell_type": "code",
   "execution_count": null,
   "id": "33a5e7ef",
   "metadata": {
    "papermill": {
     "duration": 0.603444,
     "end_time": "2022-06-07T08:14:27.893580",
     "exception": false,
     "start_time": "2022-06-07T08:14:27.290136",
     "status": "completed"
    },
    "tags": []
   },
   "outputs": [],
   "source": [
    "from sklearn.linear_model import LinearRegression\n",
    "from sklearn.compose import TransformedTargetRegressor, ColumnTransformer\n",
    "from sklearn.preprocessing import PowerTransformer\n",
    "from sklearn.pipeline import make_pipeline\n",
    "\n",
    "lnr_reg = TransformedTargetRegressor(\n",
    "    regressor = LinearRegression(fit_intercept = True, n_jobs = -1),\n",
    "    func=np.log1p,\n",
    "    inverse_func=np.expm1\n",
    ")\n",
    "lnr = make_pipeline(\n",
    "    ColumnTransformer([(\"drop_f\", \"drop\", ext_features)], remainder=\"passthrough\"),\n",
    "    PowerTransformer(),\n",
    "    lnr_reg\n",
    ")\n",
    "\n",
    "lnr.fit(x, y)\n",
    "yfit_lnr = pd.DataFrame(lnr.predict(x), index = x.index, columns = y.columns).clip(0.)\n",
    "ypred_lnr = pd.DataFrame(lnr.predict(xtest), index = xtest.index, columns = y.columns).clip(0.)\n",
    "\n",
    "y_ = y.stack(['store_nbr', 'family'])\n",
    "y_['lnr'] = yfit_lnr.stack(['store_nbr', 'family'])['sales']"
   ]
  },
  {
   "cell_type": "markdown",
   "id": "70512876",
   "metadata": {
    "papermill": {
     "duration": 0.156661,
     "end_time": "2022-06-07T08:14:28.208307",
     "exception": false,
     "start_time": "2022-06-07T08:14:28.051646",
     "status": "completed"
    },
    "tags": []
   },
   "source": [
    "Now add this linear regression's prediction to existing train and test data:"
   ]
  },
  {
   "cell_type": "code",
   "execution_count": null,
   "id": "40859cce",
   "metadata": {
    "_kg_hide-input": true,
    "papermill": {
     "duration": 0.338922,
     "end_time": "2022-06-07T08:14:28.704630",
     "exception": false,
     "start_time": "2022-06-07T08:14:28.365708",
     "status": "completed"
    },
    "tags": []
   },
   "outputs": [],
   "source": [
    "#from 30.04.17 till 31.08.17\n",
    "ylnr = yfit_lnr.append(ypred_lnr)\n",
    "x = x.join(ylnr)\n",
    "xtest = xtest.join(ylnr)\n",
    "del yfit_lnr\n",
    "del ypred_lnr\n",
    "del ylnr\n",
    "_ = gc.collect()"
   ]
  },
  {
   "cell_type": "markdown",
   "id": "2d43fb98",
   "metadata": {
    "papermill": {
     "duration": 0.156713,
     "end_time": "2022-06-07T08:14:29.021972",
     "exception": false,
     "start_time": "2022-06-07T08:14:28.865259",
     "status": "completed"
    },
    "tags": []
   },
   "source": [
    "### 4.2 Final model - Custom Regressor"
   ]
  },
  {
   "cell_type": "markdown",
   "id": "d3175efa",
   "metadata": {
    "papermill": {
     "duration": 0.156277,
     "end_time": "2022-06-07T08:14:29.334891",
     "exception": false,
     "start_time": "2022-06-07T08:14:29.178614",
     "status": "completed"
    },
    "tags": []
   },
   "source": [
    "What `CustomRegressor` is doing here - it's fiting individual model on EVERY component of Multivariate TS - single TS as combination FAMILY x STORE. And there will be 1658 independent models (excluding Zero forecast).  \n",
    "In our analysis on cross product correlations, we decided to introduce 3 groups of models in `CustomRegressor`, customized for specific product family set:\n",
    "* Selected non stationary time-series with low correlations: **GradientBoostingRegressor + ExtraTreesRegressor voting ensemble model**\n",
    "* High sales product categories (TOP 40% by sales): **K-nearest neighbors regressor + Bayesian regressor + Ridge + SVR voting ensemble model**\n",
    "* Product families enriched with new external features: simpe **Ridge regressor**\n",
    "* Low sales product categories (BOTTOM 60% by sales): **Ridge regressor + SVR voting ensemble**"
   ]
  },
  {
   "cell_type": "code",
   "execution_count": null,
   "id": "4e087742",
   "metadata": {
    "papermill": {
     "duration": 0.195145,
     "end_time": "2022-06-07T08:14:29.742512",
     "exception": false,
     "start_time": "2022-06-07T08:14:29.547367",
     "status": "completed"
    },
    "tags": []
   },
   "outputs": [],
   "source": [
    "import warnings\n",
    "from sklearn.linear_model import Ridge, ARDRegression\n",
    "from sklearn.neighbors import KNeighborsRegressor\n",
    "from sklearn.svm import SVR\n",
    "from sklearn.ensemble import ExtraTreesRegressor, GradientBoostingRegressor\n",
    "from sklearn.ensemble import BaggingRegressor, VotingRegressor\n",
    "from sklearn.compose import ColumnTransformer, TransformedTargetRegressor\n",
    "from sklearn.pipeline import make_pipeline\n",
    "\n",
    "# SEED for reproducible result\n",
    "SEED = 5\n",
    "\n",
    "class CustomRegressor():\n",
    "    \n",
    "    def __init__(self, ext_features = None, knn_features = None, non_st_ts = None, low_sales_ts = None, enriched_ts_map = None, n_jobs=-1):\n",
    "        \n",
    "        self.n_jobs = n_jobs\n",
    "        self.ext_features = ext_features\n",
    "        self.knn_features = knn_features\n",
    "        self.non_st_ts = non_st_ts\n",
    "        self.low_sales_ts = low_sales_ts\n",
    "        self.enriched_ts_map = enriched_ts_map\n",
    "        self.estimators_ = None\n",
    "        self.product_names_ = None\n",
    "        self.store_names_ = None\n",
    "        \n",
    "    def _estimator_(self, X, y):\n",
    "        warnings.simplefilter(action='ignore', category=FutureWarning)\n",
    "        \n",
    "        # We remove external features for the products, which univariate TS were note used during feature search & enrichment\n",
    "        # As these features won't be relevant for the rest of product families and might decrease accuracy\n",
    "        remove_ext_features = ColumnTransformer([(\"drop_f\", \"drop\", self.ext_features)],remainder=\"passthrough\")\n",
    "        \n",
    "        if y.name[2] in self.non_st_ts:\n",
    "            b1 = GradientBoostingRegressor(n_estimators = 175, max_depth=3, loss='huber', random_state=SEED)\n",
    "            r1 = ExtraTreesRegressor(n_estimators = 250, n_jobs=self.n_jobs, random_state=SEED)\n",
    "            b2 = BaggingRegressor(base_estimator=r1,\n",
    "                                  n_estimators=10,\n",
    "                                  n_jobs=self.n_jobs,\n",
    "                                  random_state=SEED)\n",
    "            model = make_pipeline(\n",
    "                remove_ext_features,\n",
    "                VotingRegressor ([('gbr', b1), ('et', b2)])\n",
    "            )      \n",
    "        elif y.name[2] in self.enriched_ts_map.keys():\n",
    "            ## use only external features selected for this particular TS\n",
    "            ext_features_ = [col for col in self.ext_features if col not in self.enriched_ts_map[y.name[2]]]\n",
    "            remove_ext_features_ = ColumnTransformer([(\"drop_f\", \"drop\", ext_features_)],remainder=\"passthrough\")\n",
    "            \n",
    "            # Yeo-Johnson transform for X to reshape X distribution closer to normal (Gaussian) for linear model\n",
    "            power_tr = PowerTransformer()\n",
    "            \n",
    "            # Log(y) + 1 transform to reshape y distribution closer to normal for linear model,\n",
    "            # then round transform - as  LIQUOR,WINE,BEER and CLEANING sales must be integer\n",
    "            ridge = TransformedTargetRegressor(\n",
    "                regressor = Ridge(fit_intercept=True, solver='auto', alpha=0.7, normalize=True, random_state=SEED),\n",
    "                func=np.log1p,\n",
    "                inverse_func=np.expm1\n",
    "            )\n",
    "            ridge_round_to_int = TransformedTargetRegressor(\n",
    "                regressor=ridge,\n",
    "                inverse_func=np.rint\n",
    "            )\n",
    "            model = make_pipeline(\n",
    "                remove_ext_features_,\n",
    "                power_tr,\n",
    "                ridge_round_to_int\n",
    "            )\n",
    "            \n",
    "        elif y.name[2] in self.low_sales_ts:\n",
    "            ridge = TransformedTargetRegressor(\n",
    "                regressor = Ridge(fit_intercept=True, solver='auto', alpha=0.75, normalize=True, random_state=SEED),\n",
    "                func=np.log1p,\n",
    "                inverse_func=np.expm1\n",
    "            )\n",
    "            svr = TransformedTargetRegressor(\n",
    "                regressor = SVR(C = 0.2, kernel = 'rbf'),\n",
    "                func=np.log1p,\n",
    "                inverse_func=np.expm1\n",
    "            )\n",
    "            model = VotingRegressor([('ridge', ridge), ('svr', svr)])\n",
    "        else:\n",
    "            ridge = make_pipeline(\n",
    "                remove_ext_features,\n",
    "                TransformedTargetRegressor(\n",
    "                    regressor = Ridge(fit_intercept=True, solver='auto', alpha=0.6, normalize=True, random_state=SEED),\n",
    "                    func=np.log1p,\n",
    "                    inverse_func=np.expm1)\n",
    "            )\n",
    "            svr = make_pipeline(\n",
    "                remove_ext_features,\n",
    "                TransformedTargetRegressor(\n",
    "                    regressor = SVR(C = 0.2, kernel = 'rbf'),\n",
    "                    func=np.log1p,\n",
    "                    inverse_func=np.expm1)\n",
    "            )\n",
    "            # We'll use specific feature set for KNN to cluster observations in a way to catch week and intra-week seasonality\n",
    "            knn = make_pipeline(\n",
    "                ColumnTransformer([(\"selector\", \"passthrough\", self.knn_features)], remainder=\"drop\"),\n",
    "                PowerTransformer(),\n",
    "                KNeighborsRegressor(n_neighbors=3, n_jobs=self.n_jobs)\n",
    "            )\n",
    "            ard = make_pipeline(\n",
    "                remove_ext_features,\n",
    "                TransformedTargetRegressor(\n",
    "                    regressor = ARDRegression(fit_intercept=True, normalize=True, n_iter=300),\n",
    "                    func=np.log1p,\n",
    "                    inverse_func=np.expm1)\n",
    "            )\n",
    "            estimators = [\n",
    "                ('ridge', ridge),\n",
    "                ('svr', svr),\n",
    "                (\"ard\", ard),\n",
    "                (\"knn\",knn)\n",
    "            ]\n",
    "            model = VotingRegressor(estimators)\n",
    "            \n",
    "        model.fit(X, y)\n",
    "        return model\n",
    "    \n",
    "    def fit(self, X, y):\n",
    "        print(\"Fit stage...\")\n",
    "        self.product_names_ = [str(y.iloc[:, i].name[2]) for i in range(y.shape[1])]\n",
    "        self.store_names_ = [str(y.iloc[:, i].name[1]) for i in range(y.shape[1])]\n",
    "        self.estimators_ = []\n",
    "        for i, n in tqdm(enumerate(self.product_names_)):\n",
    "            estimator_ = self._estimator_(\n",
    "                # select as features only predictions of product sales in the same store or same product in other stores\n",
    "                X.filter(\n",
    "                    regex= n + \"'\\)$|\\(\\d|^[a-zA-Z_0-9., ]+$|\\('sales', '\" + str(y.iloc[:, i].name[1]) + \"',\",\n",
    "                    axis=1,\n",
    "                ),\n",
    "                y.iloc[:, i],\n",
    "            )\n",
    "            self.estimators_.append(estimator_)\n",
    "        \n",
    "    def predict(self, X):\n",
    "        print(\"Prediction stage...\")\n",
    "        y_pred = []\n",
    "        for e, n, m in tqdm(zip(self.estimators_, self.product_names_, self.store_names_)):\n",
    "            y_pred_ = e.predict(\n",
    "                # select as features only predictions of product sales in the same store or same product in other stores\n",
    "                X.filter(\n",
    "                    regex= n + \"'\\)$|\\(\\d|^[a-zA-Z_0-9., ]+$|\\('sales', '\" + m + \"',\",\n",
    "                    axis=1,\n",
    "                )\n",
    "            )\n",
    "            y_pred.append(y_pred_)\n",
    "            \n",
    "        return np.stack(y_pred, axis=1)"
   ]
  },
  {
   "cell_type": "markdown",
   "id": "9de63181",
   "metadata": {
    "papermill": {
     "duration": 0.156135,
     "end_time": "2022-06-07T08:14:30.054375",
     "exception": false,
     "start_time": "2022-06-07T08:14:29.898240",
     "status": "completed"
    },
    "tags": []
   },
   "source": [
    "Be patient - training may take up to 15 minutes:"
   ]
  },
  {
   "cell_type": "code",
   "execution_count": null,
   "id": "a7169cb7",
   "metadata": {
    "papermill": {
     "duration": 865.812187,
     "end_time": "2022-06-07T08:28:56.022858",
     "exception": false,
     "start_time": "2022-06-07T08:14:30.210671",
     "status": "completed"
    },
    "tags": []
   },
   "outputs": [],
   "source": [
    "%%time \n",
    "\n",
    "# manual selection for KNN regression\n",
    "knn_features = list(int_features - set(['oil_lags2', 'oil_lags1',\"trend\"]))\n",
    "model = CustomRegressor(ext_features, knn_features, non_st_ts, low_sales_ts, enriched_ts_map, n_jobs=-1)\n",
    "model.fit(x, y)\n",
    "\n",
    "y_pred = pd.DataFrame(model.predict(x), index=x.index, columns=y.columns)"
   ]
  },
  {
   "cell_type": "markdown",
   "id": "4c1f6860",
   "metadata": {
    "papermill": {
     "duration": 0.277292,
     "end_time": "2022-06-07T08:28:56.636283",
     "exception": false,
     "start_time": "2022-06-07T08:28:56.358991",
     "status": "completed"
    },
    "tags": []
   },
   "source": [
    "## 5️⃣ Submit prediction with enriched features and calculate final leaderbord progress\n",
    "Let's quickly estimate model accuracy (no cross validation!) and submit:"
   ]
  },
  {
   "cell_type": "code",
   "execution_count": null,
   "id": "e711fcc6",
   "metadata": {
    "_kg_hide-input": true,
    "papermill": {
     "duration": 0.544683,
     "end_time": "2022-06-07T08:28:57.446566",
     "exception": false,
     "start_time": "2022-06-07T08:28:56.901883",
     "status": "completed"
    },
    "tags": []
   },
   "outputs": [],
   "source": [
    "from sklearn.metrics import mean_squared_log_error as msle\n",
    "y_pred = y_pred.stack(['store_nbr', 'family']).clip(0.)\n",
    "y_ = y.stack(['store_nbr', 'family']).clip(0.)\n",
    "y_['pred'] = y_pred.values\n",
    "print(y_.groupby('family').apply(lambda r : np.sqrt(np.sqrt(msle(r['sales'], r['pred'])))))\n",
    "print('RMSLE : ', np.sqrt(np.sqrt(msle(y_['sales'], y_['pred']))))"
   ]
  },
  {
   "cell_type": "code",
   "execution_count": null,
   "id": "39c4a86e",
   "metadata": {
    "_kg_hide-input": true,
    "papermill": {
     "duration": 166.437868,
     "end_time": "2022-06-07T08:31:44.148227",
     "exception": false,
     "start_time": "2022-06-07T08:28:57.710359",
     "status": "completed"
    },
    "tags": []
   },
   "outputs": [],
   "source": [
    "%%time \n",
    "\n",
    "ypred = pd.DataFrame(model.predict(xtest), index = xtest.index, columns = y.columns).clip(0.)\n",
    "ypred = ypred.stack(['store_nbr', 'family'])\n",
    "ypred = ypred.append(zero_prediction).sort_index()\n",
    "sub = pd.read_csv('../input/store-sales-time-series-forecasting/sample_submission.csv')\n",
    "sub['sales'] = ypred.values\n",
    "sub.to_csv('submission.csv', index = False)"
   ]
  },
  {
   "cell_type": "markdown",
   "id": "d250cf85",
   "metadata": {
    "papermill": {
     "duration": 0.313049,
     "end_time": "2022-06-07T08:31:44.777505",
     "exception": false,
     "start_time": "2022-06-07T08:31:44.464456",
     "status": "completed"
    },
    "tags": []
   },
   "source": [
    "This submission has score **0.39261** on LB and **2nd place** by the time of publication (2022/06/06).  \n",
    "Just a reminder - baseline solution had **0.40419**\n",
    "\n",
    "#### ⚡️ We've got a significant improvement AND still we not used ALL competition datasets:\n",
    "* promotion information on product family from train and test datasets  \n",
    "* store dataset - location, category, cluster for the stores \n",
    "\n",
    "#### Go ahead and improve this solution further! 📈🎉"
   ]
  },
  {
   "cell_type": "markdown",
   "id": "ad630f30",
   "metadata": {
    "papermill": {
     "duration": 0.363505,
     "end_time": "2022-06-07T08:31:45.459696",
     "exception": false,
     "start_time": "2022-06-07T08:31:45.096191",
     "status": "completed"
    },
    "tags": []
   },
   "source": [
    "## 🌎 Relevant external features & data sources\n",
    "Here is the description of relevant features from Upgini enrichment:\n",
    "\n",
    "* **f_days_to_holiday_5ce1a653** - number of days to the nearest holiday in Ecuador (any type - national or local), which is a non working day. Transfers will be taken into account.\n",
    "\n",
    "* **f_days_from_holiday_fbad7b66** -  number of days from the nearest holiday in Ecuador (any type - national or local), which is a non working day. Transfers will be taken into account.\n",
    "\n",
    "* **f_holiday_code_3d_ahead_d4998487** - weighted sum of holidays in Ecuador in a 3-day window from today to the day after tomorrow, where national holidays have a weight of 2 and local holidays have a weight of 1.\n",
    "\n",
    "* **f_month_cos1_c2b0dad4** - 1st order component to take into account the intra-month seasonality, calculated according to the formula $month\\_cos1 = \\cos(\\frac{2 \\pi \\cdot order \\cdot day\\_of\\_month}{days\\_in\\_month})$.\n",
    "\n",
    "#### 🚀 Happy kaggling and external features search! \n",
    "<sup>😔 Found error in the library or a bug in notebook code? Our bad! <a href=\"https://github.com/upgini/upgini/issues/new?assignees=&title=readme%2Fbug\">\n",
    "Please report it here.</a></sup>"
   ]
  }
 ],
 "metadata": {
  "kernelspec": {
   "display_name": "Python 3",
   "language": "python",
   "name": "python3"
  },
  "language_info": {
   "codemirror_mode": {
    "name": "ipython",
    "version": 3
   },
   "file_extension": ".py",
   "mimetype": "text/x-python",
   "name": "python",
   "nbconvert_exporter": "python",
   "pygments_lexer": "ipython3",
   "version": "3.8.8"
  },
  "latex_envs": {
   "LaTeX_envs_menu_present": true,
   "autoclose": false,
   "autocomplete": true,
   "bibliofile": "biblio.bib",
   "cite_by": "apalike",
   "current_citInitial": 1,
   "eqLabelWithNumbers": true,
   "eqNumInitial": 1,
   "hotkeys": {
    "equation": "Ctrl-E",
    "itemize": "Ctrl-I"
   },
   "labels_anchors": false,
   "latex_user_defs": false,
   "report_style_numbering": false,
   "user_envs_cfg": false
  },
  "papermill": {
   "default_parameters": {},
   "duration": 1512.65655,
   "end_time": "2022-06-07T08:31:48.382387",
   "environment_variables": {},
   "exception": null,
   "input_path": "__notebook__.ipynb",
   "output_path": "__notebook__.ipynb",
   "parameters": {},
   "start_time": "2022-06-07T08:06:35.725837",
   "version": "2.3.4"
  }
 },
 "nbformat": 4,
 "nbformat_minor": 5
}
