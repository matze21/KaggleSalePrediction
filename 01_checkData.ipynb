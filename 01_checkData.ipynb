{
 "cells": [
  {
   "cell_type": "code",
   "execution_count": null,
   "id": "17691e32",
   "metadata": {},
   "outputs": [],
   "source": [
    "import pandas as pd\n",
    "\n",
    "#notes:\n",
    "#need to predict sales for multiple areas per store\n",
    "\n",
    "#ideas\n",
    "#evaluate every store independently\n",
    "\n",
    "#idea1:\n",
    "# add all features to one big dataset\n",
    "\n",
    "#idea2:\n",
    "# do store specific prediction\n",
    "\n",
    "#idea3:\n",
    "# predict transactions per store"
   ]
  },
  {
   "cell_type": "code",
   "execution_count": null,
   "id": "92ec1e0e",
   "metadata": {},
   "outputs": [],
   "source": [
    "holidays = pd.read_csv(\"holidays_events.csv\")\n",
    "print(holidays)\n",
    "#transferred holidays are celebrated after (maybe also before) actual date\n",
    "holidays.locale_name.unique()"
   ]
  },
  {
   "cell_type": "code",
   "execution_count": null,
   "id": "0e83779d",
   "metadata": {},
   "outputs": [],
   "source": [
    "oil = pd.read_csv(\"oil.csv\")\n",
    "print(oil)"
   ]
  },
  {
   "cell_type": "code",
   "execution_count": null,
   "id": "7f4b8821",
   "metadata": {},
   "outputs": [],
   "source": [
    "stores = pd.read_csv(\"stores.csv\")\n",
    "print(stores)"
   ]
  },
  {
   "cell_type": "code",
   "execution_count": null,
   "id": "834f5ae1",
   "metadata": {},
   "outputs": [],
   "source": [
    "transactions = pd.read_csv(\"transactions.csv\")\n",
    "print(transactions)"
   ]
  },
  {
   "cell_type": "code",
   "execution_count": null,
   "id": "07ca4ce5",
   "metadata": {},
   "outputs": [],
   "source": [
    "train = pd.read_csv(\"train.csv\")\n",
    "print(train.family.unique())\n",
    "train.sales.unique()"
   ]
  },
  {
   "cell_type": "code",
   "execution_count": null,
   "id": "c396c0b2",
   "metadata": {},
   "outputs": [],
   "source": [
    "trainT = train[0:200]\n",
    "print(train)"
   ]
  },
  {
   "cell_type": "code",
   "execution_count": null,
   "id": "0afa0942",
   "metadata": {},
   "outputs": [],
   "source": [
    "train_concat = pd.concat([trainT, oil.])\n",
    "print(train_concat)"
   ]
  },
  {
   "cell_type": "code",
   "execution_count": null,
   "id": "a59acea7",
   "metadata": {},
   "outputs": [],
   "source": [
    "test = pd.read_csv(\"test.csv\")"
   ]
  },
  {
   "cell_type": "code",
   "execution_count": null,
   "id": "187205a9",
   "metadata": {},
   "outputs": [],
   "source": [
    "test"
   ]
  }
 ],
 "metadata": {
  "kernelspec": {
   "display_name": "Python 3",
   "language": "python",
   "name": "python3"
  },
  "language_info": {
   "codemirror_mode": {
    "name": "ipython",
    "version": 3
   },
   "file_extension": ".py",
   "mimetype": "text/x-python",
   "name": "python",
   "nbconvert_exporter": "python",
   "pygments_lexer": "ipython3",
   "version": "3.8.8"
  },
  "latex_envs": {
   "LaTeX_envs_menu_present": true,
   "autoclose": false,
   "autocomplete": true,
   "bibliofile": "biblio.bib",
   "cite_by": "apalike",
   "current_citInitial": 1,
   "eqLabelWithNumbers": true,
   "eqNumInitial": 1,
   "hotkeys": {
    "equation": "Ctrl-E",
    "itemize": "Ctrl-I"
   },
   "labels_anchors": false,
   "latex_user_defs": false,
   "report_style_numbering": false,
   "user_envs_cfg": false
  }
 },
 "nbformat": 4,
 "nbformat_minor": 5
}
