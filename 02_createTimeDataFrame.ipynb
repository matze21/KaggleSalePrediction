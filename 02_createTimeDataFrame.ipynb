{
 "cells": [
  {
   "cell_type": "code",
   "execution_count": null,
   "id": "c8844e6c",
   "metadata": {},
   "outputs": [],
   "source": [
    "import pandas as pd\n",
    "import numpy as np\n",
    "import matplotlib.pyplot as plt\n",
    "from sklearn.preprocessing import LabelEncoder"
   ]
  },
  {
   "cell_type": "code",
   "execution_count": null,
   "id": "7eaa6689",
   "metadata": {},
   "outputs": [],
   "source": [
    "from datetime import timedelta, date\n",
    "\n",
    "def daterange(date1, date2):\n",
    "    for n in range(int ((date2 - date1).days)+1):\n",
    "        yield date1 + timedelta(n)\n",
    "\n",
    "start_dt_train = date(2013, 1, 1)\n",
    "end_dt_train = date(2017, 8, 15)\n",
    "test_dt = date(2016, 5,10)\n",
    "train_dates1 = []\n",
    "dataTypes = []\n",
    "for dt in daterange(start_dt_train, end_dt_train):\n",
    "    train_dates1.append(dt.strftime(\"%Y-%m-%d\"))\n",
    "    if dt > test_dt:\n",
    "        dataTypes.append('test')\n",
    "    else:\n",
    "        dataTypes.append('train')\n",
    "    \n",
    "start_dt_test = date(2017, 8, 16)\n",
    "end_dt_test = date(2017, 8, 31)\n",
    "test_dates = []\n",
    "for dt in daterange(start_dt_test, end_dt_test):\n",
    "    test_dates.append(dt.strftime(\"%Y-%m-%d\"))\n",
    "    dataTypes.append('val')\n",
    "all_dates = []\n",
    "for dt in daterange(start_dt_train, end_dt_test):\n",
    "    all_dates.append(dt.strftime(\"%Y-%m-%d\"))"
   ]
  },
  {
   "cell_type": "code",
   "execution_count": null,
   "id": "a7d0cdf2",
   "metadata": {},
   "outputs": [],
   "source": [
    "datesDf = pd.DataFrame(data=all_dates, columns=['date'])"
   ]
  },
  {
   "cell_type": "code",
   "execution_count": null,
   "id": "57c95b43",
   "metadata": {},
   "outputs": [],
   "source": [
    "holidays = pd.read_csv(\"holidays_events.csv\")\n",
    "oil = pd.read_csv(\"oil.csv\")\n",
    "stores = pd.read_csv(\"stores.csv\")\n",
    "transactions = pd.read_csv(\"transactions.csv\")"
   ]
  },
  {
   "cell_type": "code",
   "execution_count": null,
   "id": "2b4d81b7",
   "metadata": {},
   "outputs": [],
   "source": [
    "holidays = holidays.merge(datesDf, how='inner')\n",
    "oil = oil.merge(datesDf, how = 'inner')"
   ]
  },
  {
   "cell_type": "code",
   "execution_count": null,
   "id": "53711c3c",
   "metadata": {},
   "outputs": [],
   "source": [
    "# add weekday, month, year\n",
    "day = []\n",
    "month = []\n",
    "year =[]\n",
    "weekday =[]\n",
    "for dt in daterange(start_dt_train, end_dt_test):\n",
    "    day.append(dt.day)\n",
    "    weekday.append(dt.weekday())\n",
    "    month.append(dt.month)\n",
    "    year.append(dt.year)\n",
    "\n",
    "datesDf = datesDf.assign(weekday = weekday)\n",
    "datesDf = datesDf.assign(day = day)\n",
    "datesDf = datesDf.assign(month = month)\n",
    "datesDf = datesDf.assign(year = year)\n",
    "datesDf = datesDf.assign(dataType = dataTypes)\n",
    "datesDf"
   ]
  },
  {
   "cell_type": "code",
   "execution_count": null,
   "id": "a823f577",
   "metadata": {},
   "outputs": [],
   "source": [
    "# add oil that is the same for every store\n",
    "datesDf = datesDf.merge(oil, how='outer')\n",
    "datesDf.dcoilwtico.interpolate(method='linear', inplace=True) #probably don't need to normalize since in good range\n",
    "datesDf['dcoilwtico'] = datesDf.dcoilwtico.fillna(93.140000)\n",
    "datesDf"
   ]
  },
  {
   "cell_type": "code",
   "execution_count": null,
   "id": "2d974b8a",
   "metadata": {},
   "outputs": [],
   "source": [
    "#add holiday information\n",
    "datesDf = datesDf.merge(holidays, how = 'outer')\n",
    "datesDf"
   ]
  },
  {
   "cell_type": "code",
   "execution_count": null,
   "id": "6bbb7f24",
   "metadata": {},
   "outputs": [],
   "source": [
    "#encode stuff\n",
    "print(datesDf.type.value_counts())\n",
    "\n",
    "print(datesDf.locale.value_counts())\n",
    "\n",
    "print(datesDf.locale_name.value_counts()) #attention! some local names match store locations\n",
    "\n",
    "print(datesDf.description.value_counts(), datesDf.description.unique())"
   ]
  },
  {
   "cell_type": "code",
   "execution_count": null,
   "id": "564d728b",
   "metadata": {},
   "outputs": [],
   "source": [
    "stores"
   ]
  },
  {
   "cell_type": "code",
   "execution_count": null,
   "id": "154b3883",
   "metadata": {},
   "outputs": [],
   "source": [
    "set(stores.state.value_counts()) & set(datesDf.locale_name.value_counts())"
   ]
  },
  {
   "cell_type": "code",
   "execution_count": null,
   "id": "bc490c63",
   "metadata": {},
   "outputs": [],
   "source": [
    "set(stores.city.value_counts()) & set(datesDf.locale_name.value_counts())"
   ]
  },
  {
   "cell_type": "code",
   "execution_count": null,
   "id": "8858a452",
   "metadata": {},
   "outputs": [],
   "source": [
    "storeColumns = stores.columns"
   ]
  },
  {
   "cell_type": "code",
   "execution_count": null,
   "id": "58c8cf53",
   "metadata": {},
   "outputs": [],
   "source": [
    "storeIds = np.sort(transactions.store_nbr.unique())\n",
    "\n",
    "df = pd.DataFrame()\n",
    "for storeId in storeIds:\n",
    "    #add transaction info\n",
    "    df_loc = datesDf.merge(transactions.loc[transactions.store_nbr==storeId], how='outer')\n",
    "    df_loc.store_nbr.fillna(storeId, inplace=True)\n",
    "    df_loc.transactions.fillna(0, inplace=True)\n",
    "    \n",
    "    # add store info \n",
    "    df_loc = df_loc.assign(city = stores.loc[(stores.store_nbr == storeId, 'city')].to_numpy()[0])\n",
    "    df_loc = df_loc.assign(state = stores.loc[(stores.store_nbr == storeId, 'state')].to_numpy()[0])\n",
    "    df_loc = df_loc.assign(citytype = stores.loc[(stores.store_nbr == storeId, 'type')].to_numpy()[0])\n",
    "    df_loc = df_loc.assign(cluster = stores.loc[(stores.store_nbr == storeId, 'cluster')].to_numpy()[0])\n",
    "\n",
    "    #check if store location is same as holiday location -> create local holiday column\n",
    "    df_loc['holidayAtStoreState'] = df_loc['state'] == df_loc['locale_name']\n",
    "    df_loc['holidayAtStoreCity'] = df_loc['city'] == df_loc['locale_name']\n",
    "    \n",
    "    # add id to train data (time relation)\n",
    "    df_loc['index'] = df_loc.index\n",
    "    \n",
    "    df = pd.concat([df,df_loc])\n",
    "    \n",
    "    #fig = plt.figure()\n",
    "    #df_loc.transactions.plot()\n",
    "    \n",
    "df"
   ]
  },
  {
   "cell_type": "code",
   "execution_count": null,
   "id": "4ea3c60e",
   "metadata": {},
   "outputs": [],
   "source": [
    "le = LabelEncoder()\n",
    "cols = ['type','locale','locale_name','description','transferred', 'city','state','citytype', 'holidayAtStoreState','holidayAtStoreCity']\n",
    "#\n",
    "# Encode labels of multiple columns at once\n",
    "#\n",
    "df[cols] = df[cols].apply(LabelEncoder().fit_transform)\n",
    "df"
   ]
  },
  {
   "cell_type": "code",
   "execution_count": null,
   "id": "5efca023",
   "metadata": {},
   "outputs": [],
   "source": [
    "df.to_csv('timeDF.csv')"
   ]
  },
  {
   "cell_type": "code",
   "execution_count": null,
   "id": "0d3ac28b",
   "metadata": {},
   "outputs": [],
   "source": []
  }
 ],
 "metadata": {
  "kernelspec": {
   "display_name": "Python 3",
   "language": "python",
   "name": "python3"
  },
  "language_info": {
   "codemirror_mode": {
    "name": "ipython",
    "version": 3
   },
   "file_extension": ".py",
   "mimetype": "text/x-python",
   "name": "python",
   "nbconvert_exporter": "python",
   "pygments_lexer": "ipython3",
   "version": "3.8.8"
  },
  "latex_envs": {
   "LaTeX_envs_menu_present": true,
   "autoclose": false,
   "autocomplete": true,
   "bibliofile": "biblio.bib",
   "cite_by": "apalike",
   "current_citInitial": 1,
   "eqLabelWithNumbers": true,
   "eqNumInitial": 1,
   "hotkeys": {
    "equation": "Ctrl-E",
    "itemize": "Ctrl-I"
   },
   "labels_anchors": false,
   "latex_user_defs": false,
   "report_style_numbering": false,
   "user_envs_cfg": false
  }
 },
 "nbformat": 4,
 "nbformat_minor": 5
}
