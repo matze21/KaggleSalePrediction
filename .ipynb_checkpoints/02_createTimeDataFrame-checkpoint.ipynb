{
 "cells": [
  {
   "cell_type": "code",
   "execution_count": null,
   "id": "6aacac29",
   "metadata": {},
   "outputs": [],
   "source": [
    "import pandas as pd\n",
    "import numpy as np\n",
    "import matplotlib.pyplot as plt"
   ]
  },
  {
   "cell_type": "code",
   "execution_count": null,
   "id": "f016a9e2",
   "metadata": {},
   "outputs": [],
   "source": [
    "from datetime import timedelta, date\n",
    "\n",
    "def daterange(date1, date2):\n",
    "    for n in range(int ((date2 - date1).days)+1):\n",
    "        yield date1 + timedelta(n)\n",
    "\n",
    "start_dt_train = date(2013, 1, 1)\n",
    "end_dt_train = date(2017, 8, 15)\n",
    "train_dates = []\n",
    "for dt in daterange(start_dt_train, end_dt_train):\n",
    "    train_dates.append(dt.strftime(\"%Y-%m-%d\"))\n",
    " \n",
    "start_dt_test = date(2017, 8, 16)\n",
    "end_dt_test = date(2017, 8, 31)\n",
    "test_dates = []\n",
    "for dt in daterange(start_dt_test, end_dt_test):\n",
    "    test_dates.append(dt.strftime(\"%Y-%m-%d\"))\n",
    "    \n",
    "all_dates = []\n",
    "for dt in daterange(start_dt_train, end_dt_test):\n",
    "    all_dates.append(dt.strftime(\"%Y-%m-%d\"))"
   ]
  },
  {
   "cell_type": "code",
   "execution_count": null,
   "id": "04116928",
   "metadata": {},
   "outputs": [],
   "source": [
    "datesDf = pd.DataFrame(data=all_dates, columns=['date'])"
   ]
  },
  {
   "cell_type": "code",
   "execution_count": null,
   "id": "de618d37",
   "metadata": {},
   "outputs": [],
   "source": [
    "holidays = pd.read_csv(\"holidays_events.csv\")\n",
    "oil = pd.read_csv(\"oil.csv\")\n",
    "stores = pd.read_csv(\"stores.csv\")\n",
    "transactions = pd.read_csv(\"transactions.csv\")"
   ]
  },
  {
   "cell_type": "code",
   "execution_count": null,
   "id": "20713fcf",
   "metadata": {},
   "outputs": [],
   "source": [
    "holidays = holidays.merge(datesDf, how='inner')\n",
    "oil = oil.merge(datesDf, how = 'inner')"
   ]
  },
  {
   "cell_type": "code",
   "execution_count": null,
   "id": "f38e4791",
   "metadata": {},
   "outputs": [],
   "source": [
    "# add weekday, month, year\n",
    "day = []\n",
    "month = []\n",
    "year =[]\n",
    "weekday =[]\n",
    "for dt in daterange(start_dt_train, end_dt_test):\n",
    "    day.append(dt.day)\n",
    "    weekday.append(dt.weekday())\n",
    "    month.append(dt.month)\n",
    "    year.append(dt.year)\n",
    "\n",
    "datesDf = datesDf.assign(weekday = weekday)\n",
    "datesDf = datesDf.assign(day = day)\n",
    "datesDf = datesDf.assign(month = month)\n",
    "datesDf = datesDf.assign(year = year)\n",
    "datesDf"
   ]
  },
  {
   "cell_type": "code",
   "execution_count": null,
   "id": "2097b6db",
   "metadata": {},
   "outputs": [],
   "source": [
    "# add oil that is the same for every store\n",
    "datesDf = datesDf.merge(oil, how='outer')\n",
    "datesDf.dcoilwtico.interpolate(method='linear', inplace=True) #probably don't need to normalize since in good range\n",
    "datesDf"
   ]
  },
  {
   "cell_type": "code",
   "execution_count": null,
   "id": "7ecd7945",
   "metadata": {},
   "outputs": [],
   "source": [
    "#add holiday information\n",
    "datesDf = datesDf.merge(holidays, how = 'outer')\n",
    "datesDf"
   ]
  },
  {
   "cell_type": "code",
   "execution_count": null,
   "id": "160f513a",
   "metadata": {},
   "outputs": [],
   "source": [
    "#encode stuff\n",
    "print(datesDf.type.value_counts())\n",
    "\n",
    "print(datesDf.locale.value_counts())\n",
    "\n",
    "print(datesDf.locale_name.value_counts()) #attention! some local names match store locations\n",
    "\n",
    "print(datesDf.description.value_counts(), datesDf.description.unique())"
   ]
  },
  {
   "cell_type": "code",
   "execution_count": null,
   "id": "97e7c03d",
   "metadata": {},
   "outputs": [],
   "source": [
    "stores"
   ]
  },
  {
   "cell_type": "code",
   "execution_count": null,
   "id": "90975706",
   "metadata": {},
   "outputs": [],
   "source": [
    "set(stores.state.value_counts()) & set(datesDf.locale_name.value_counts())"
   ]
  },
  {
   "cell_type": "code",
   "execution_count": null,
   "id": "a9e87159",
   "metadata": {},
   "outputs": [],
   "source": [
    "storeIds = np.sort(transactions.store_nbr.unique())\n",
    "\n",
    "df = pd.DataFrame()\n",
    "for storeId in storeIds:\n",
    "    df_loc = datesDf.merge(transactions.loc[transactions.store_nbr==storeId], how='outer')\n",
    "    df_loc.store_nbr.fillna(storeId, inplace=True)\n",
    "    df_loc.transactions.fillna(0, inplace=True)\n",
    "    \n",
    "    TODO:\n",
    "    # add store info \n",
    "    #check if store location is same as holiday location -> create local holiday column\n",
    "    # add id to train data (time relation)\n",
    "    df = pd.concat([df,df_loc])\n",
    "    \n",
    "    #fig = plt.figure()\n",
    "    #df_loc.transactions.plot()\n",
    "    \n",
    "#     if storeId == 2:\n",
    "#         break\n",
    "df"
   ]
  },
  {
   "cell_type": "code",
   "execution_count": null,
   "id": "5677a578",
   "metadata": {},
   "outputs": [],
   "source": [
    "storeIds = transactions.store_nbr.unique()\n",
    "for storeId in storeIds:\n",
    "    #print(storeId)\n",
    "    #print(df.loc[df.store_nbr == storeId].date.unique().size)\n",
    "    "
   ]
  }
 ],
 "metadata": {
  "kernelspec": {
   "display_name": "Python 3",
   "language": "python",
   "name": "python3"
  },
  "language_info": {
   "codemirror_mode": {
    "name": "ipython",
    "version": 3
   },
   "file_extension": ".py",
   "mimetype": "text/x-python",
   "name": "python",
   "nbconvert_exporter": "python",
   "pygments_lexer": "ipython3",
   "version": "3.8.8"
  },
  "latex_envs": {
   "LaTeX_envs_menu_present": true,
   "autoclose": false,
   "autocomplete": true,
   "bibliofile": "biblio.bib",
   "cite_by": "apalike",
   "current_citInitial": 1,
   "eqLabelWithNumbers": true,
   "eqNumInitial": 1,
   "hotkeys": {
    "equation": "Ctrl-E",
    "itemize": "Ctrl-I"
   },
   "labels_anchors": false,
   "latex_user_defs": false,
   "report_style_numbering": false,
   "user_envs_cfg": false
  }
 },
 "nbformat": 4,
 "nbformat_minor": 5
}
